{
 "cells": [
  {
   "cell_type": "markdown",
   "id": "2c58709c",
   "metadata": {},
   "source": [
    "## First import the dataset of the marine mammal distrubutions"
   ]
  },
  {
   "cell_type": "code",
   "execution_count": 93,
   "id": "5a1ede70",
   "metadata": {},
   "outputs": [
    {
     "data": {
      "text/html": [
       "<div>\n",
       "<style scoped>\n",
       "    .dataframe tbody tr th:only-of-type {\n",
       "        vertical-align: middle;\n",
       "    }\n",
       "\n",
       "    .dataframe tbody tr th {\n",
       "        vertical-align: top;\n",
       "    }\n",
       "\n",
       "    .dataframe thead th {\n",
       "        text-align: right;\n",
       "    }\n",
       "</style>\n",
       "<table border=\"1\" class=\"dataframe\">\n",
       "  <thead>\n",
       "    <tr style=\"text-align: right;\">\n",
       "      <th></th>\n",
       "      <th>Date</th>\n",
       "      <th>Latitude</th>\n",
       "      <th>Longitude</th>\n",
       "      <th>Location</th>\n",
       "      <th>Species</th>\n",
       "      <th>Adult M</th>\n",
       "      <th>Adult F</th>\n",
       "      <th>Adult</th>\n",
       "      <th>Subadult</th>\n",
       "      <th>Polar bear condition</th>\n",
       "      <th>Polar bear den</th>\n",
       "      <th>Cub/calf/pup</th>\n",
       "      <th>Bear cubs</th>\n",
       "      <th>Dead/alive</th>\n",
       "      <th>Unidentified</th>\n",
       "      <th>Total</th>\n",
       "      <th>Habitat</th>\n",
       "      <th>Occurrence remark</th>\n",
       "    </tr>\n",
       "  </thead>\n",
       "  <tbody>\n",
       "    <tr>\n",
       "      <th>0</th>\n",
       "      <td>2000-07-29</td>\n",
       "      <td>78.55</td>\n",
       "      <td>25.416667</td>\n",
       "      <td></td>\n",
       "      <td>balaena mysticetus</td>\n",
       "      <td></td>\n",
       "      <td></td>\n",
       "      <td></td>\n",
       "      <td></td>\n",
       "      <td></td>\n",
       "      <td></td>\n",
       "      <td></td>\n",
       "      <td></td>\n",
       "      <td></td>\n",
       "      <td></td>\n",
       "      <td>1</td>\n",
       "      <td>water</td>\n",
       "      <td>V. Large individual possibly a F</td>\n",
       "    </tr>\n",
       "    <tr>\n",
       "      <th>1</th>\n",
       "      <td>2000-08-08</td>\n",
       "      <td>79.1166666666667</td>\n",
       "      <td>21.441667</td>\n",
       "      <td></td>\n",
       "      <td>balaena mysticetus</td>\n",
       "      <td></td>\n",
       "      <td></td>\n",
       "      <td></td>\n",
       "      <td></td>\n",
       "      <td></td>\n",
       "      <td></td>\n",
       "      <td></td>\n",
       "      <td></td>\n",
       "      <td></td>\n",
       "      <td></td>\n",
       "      <td>1</td>\n",
       "      <td>water</td>\n",
       "      <td></td>\n",
       "    </tr>\n",
       "    <tr>\n",
       "      <th>2</th>\n",
       "      <td>2000-08-16</td>\n",
       "      <td>78.917</td>\n",
       "      <td>24.050000</td>\n",
       "      <td></td>\n",
       "      <td>balaena mysticetus</td>\n",
       "      <td></td>\n",
       "      <td></td>\n",
       "      <td></td>\n",
       "      <td></td>\n",
       "      <td></td>\n",
       "      <td></td>\n",
       "      <td></td>\n",
       "      <td></td>\n",
       "      <td></td>\n",
       "      <td></td>\n",
       "      <td>1</td>\n",
       "      <td>water</td>\n",
       "      <td></td>\n",
       "    </tr>\n",
       "    <tr>\n",
       "      <th>3</th>\n",
       "      <td>2001-08-08</td>\n",
       "      <td>79.268</td>\n",
       "      <td>20.858000</td>\n",
       "      <td></td>\n",
       "      <td>balaena mysticetus</td>\n",
       "      <td></td>\n",
       "      <td></td>\n",
       "      <td></td>\n",
       "      <td></td>\n",
       "      <td></td>\n",
       "      <td></td>\n",
       "      <td></td>\n",
       "      <td></td>\n",
       "      <td></td>\n",
       "      <td></td>\n",
       "      <td>1</td>\n",
       "      <td>water</td>\n",
       "      <td></td>\n",
       "    </tr>\n",
       "    <tr>\n",
       "      <th>4</th>\n",
       "      <td>2005-08-06</td>\n",
       "      <td>78.932</td>\n",
       "      <td>11.922000</td>\n",
       "      <td>Nye Ålesund</td>\n",
       "      <td>balaena mysticetus</td>\n",
       "      <td></td>\n",
       "      <td></td>\n",
       "      <td></td>\n",
       "      <td></td>\n",
       "      <td></td>\n",
       "      <td></td>\n",
       "      <td></td>\n",
       "      <td></td>\n",
       "      <td></td>\n",
       "      <td></td>\n",
       "      <td>1</td>\n",
       "      <td>water</td>\n",
       "      <td></td>\n",
       "    </tr>\n",
       "    <tr>\n",
       "      <th>...</th>\n",
       "      <td>...</td>\n",
       "      <td>...</td>\n",
       "      <td>...</td>\n",
       "      <td>...</td>\n",
       "      <td>...</td>\n",
       "      <td>...</td>\n",
       "      <td>...</td>\n",
       "      <td>...</td>\n",
       "      <td>...</td>\n",
       "      <td>...</td>\n",
       "      <td>...</td>\n",
       "      <td>...</td>\n",
       "      <td>...</td>\n",
       "      <td>...</td>\n",
       "      <td>...</td>\n",
       "      <td>...</td>\n",
       "      <td>...</td>\n",
       "      <td>...</td>\n",
       "    </tr>\n",
       "    <tr>\n",
       "      <th>17370</th>\n",
       "      <td>2006-07-25</td>\n",
       "      <td>80.703</td>\n",
       "      <td>20.883000</td>\n",
       "      <td>Phippsøya</td>\n",
       "      <td>ursus maritimus</td>\n",
       "      <td></td>\n",
       "      <td></td>\n",
       "      <td></td>\n",
       "      <td></td>\n",
       "      <td></td>\n",
       "      <td></td>\n",
       "      <td></td>\n",
       "      <td></td>\n",
       "      <td></td>\n",
       "      <td></td>\n",
       "      <td>19</td>\n",
       "      <td>land</td>\n",
       "      <td>Feeding on whale carcass</td>\n",
       "    </tr>\n",
       "    <tr>\n",
       "      <th>17371</th>\n",
       "      <td>2010-09-21</td>\n",
       "      <td>80.1107</td>\n",
       "      <td>28.079700</td>\n",
       "      <td>Storøya</td>\n",
       "      <td>ursus maritimus</td>\n",
       "      <td></td>\n",
       "      <td>5</td>\n",
       "      <td></td>\n",
       "      <td></td>\n",
       "      <td></td>\n",
       "      <td></td>\n",
       "      <td>7</td>\n",
       "      <td></td>\n",
       "      <td></td>\n",
       "      <td></td>\n",
       "      <td>20</td>\n",
       "      <td>unknown</td>\n",
       "      <td>Two females with yearlings, two females with ...</td>\n",
       "    </tr>\n",
       "    <tr>\n",
       "      <th>17372</th>\n",
       "      <td>2012-07-11</td>\n",
       "      <td>79.01</td>\n",
       "      <td>20.500000</td>\n",
       "      <td>Hochstetterbreen</td>\n",
       "      <td>ursus maritimus</td>\n",
       "      <td></td>\n",
       "      <td>2</td>\n",
       "      <td></td>\n",
       "      <td></td>\n",
       "      <td></td>\n",
       "      <td></td>\n",
       "      <td>3</td>\n",
       "      <td></td>\n",
       "      <td></td>\n",
       "      <td></td>\n",
       "      <td>22</td>\n",
       "      <td>ice</td>\n",
       "      <td></td>\n",
       "    </tr>\n",
       "    <tr>\n",
       "      <th>17373</th>\n",
       "      <td>2015-08-28</td>\n",
       "      <td>78.9354</td>\n",
       "      <td>28.635900</td>\n",
       "      <td>Kongsøya</td>\n",
       "      <td>ursus maritimus</td>\n",
       "      <td>0</td>\n",
       "      <td>5</td>\n",
       "      <td>18</td>\n",
       "      <td>7</td>\n",
       "      <td>0</td>\n",
       "      <td></td>\n",
       "      <td>0</td>\n",
       "      <td>0</td>\n",
       "      <td></td>\n",
       "      <td>0</td>\n",
       "      <td>30</td>\n",
       "      <td>land</td>\n",
       "      <td>Hele øya</td>\n",
       "    </tr>\n",
       "    <tr>\n",
       "      <th>17374</th>\n",
       "      <td>2004-09-01</td>\n",
       "      <td>79.869</td>\n",
       "      <td>27.179000</td>\n",
       "      <td>Italianeset</td>\n",
       "      <td>ursus maritimus</td>\n",
       "      <td></td>\n",
       "      <td></td>\n",
       "      <td>31</td>\n",
       "      <td></td>\n",
       "      <td></td>\n",
       "      <td></td>\n",
       "      <td>1</td>\n",
       "      <td></td>\n",
       "      <td></td>\n",
       "      <td></td>\n",
       "      <td>32</td>\n",
       "      <td>land</td>\n",
       "      <td>spread around island</td>\n",
       "    </tr>\n",
       "  </tbody>\n",
       "</table>\n",
       "<p>17375 rows × 18 columns</p>\n",
       "</div>"
      ],
      "text/plain": [
       "              Date          Latitude    Longitude            Location   \\\n",
       "0       2000-07-29              78.55    25.416667                       \n",
       "1       2000-08-08   79.1166666666667    21.441667                       \n",
       "2       2000-08-16             78.917    24.050000                       \n",
       "3       2001-08-08             79.268    20.858000                       \n",
       "4       2005-08-06             78.932    11.922000        Nye Ålesund    \n",
       "...             ...               ...          ...                 ...   \n",
       "17370   2006-07-25             80.703    20.883000          Phippsøya    \n",
       "17371   2010-09-21            80.1107    28.079700            Storøya    \n",
       "17372   2012-07-11              79.01    20.500000   Hochstetterbreen    \n",
       "17373   2015-08-28            78.9354    28.635900           Kongsøya    \n",
       "17374   2004-09-01             79.869    27.179000        Italianeset    \n",
       "\n",
       "                   Species   Adult M   Adult F   Adult   Subadult   \\\n",
       "0       balaena mysticetus                                           \n",
       "1       balaena mysticetus                                           \n",
       "2       balaena mysticetus                                           \n",
       "3       balaena mysticetus                                           \n",
       "4       balaena mysticetus                                           \n",
       "...                     ...       ...       ...     ...        ...   \n",
       "17370      ursus maritimus                                           \n",
       "17371      ursus maritimus                    5                      \n",
       "17372      ursus maritimus                    2                      \n",
       "17373      ursus maritimus          0         5      18          7   \n",
       "17374      ursus maritimus                           31              \n",
       "\n",
       "       Polar bear condition   Polar bear den   Cub/calf/pup   Bear cubs   \\\n",
       "0                                                                          \n",
       "1                                                                          \n",
       "2                                                                          \n",
       "3                                                                          \n",
       "4                                                                          \n",
       "...                      ...              ...            ...         ...   \n",
       "17370                                                                      \n",
       "17371                                                      7               \n",
       "17372                                                      3               \n",
       "17373                      0                               0           0   \n",
       "17374                                                      1               \n",
       "\n",
       "       Dead/alive   Unidentified   Total    Habitat   \\\n",
       "0                                       1     water    \n",
       "1                                       1     water    \n",
       "2                                       1     water    \n",
       "3                                       1     water    \n",
       "4                                       1     water    \n",
       "...            ...            ...     ...        ...   \n",
       "17370                                  19      land    \n",
       "17371                                  20   unknown    \n",
       "17372                                  22       ice    \n",
       "17373                           0      30      land    \n",
       "17374                                  32      land    \n",
       "\n",
       "                                      Occurrence remark   \n",
       "0                      V. Large individual possibly a F   \n",
       "1                                                         \n",
       "2                                                         \n",
       "3                                                         \n",
       "4                                                         \n",
       "...                                                  ...  \n",
       "17370                          Feeding on whale carcass   \n",
       "17371   Two females with yearlings, two females with ...  \n",
       "17372                                                     \n",
       "17373                                          Hele øya   \n",
       "17374                              spread around island   \n",
       "\n",
       "[17375 rows x 18 columns]"
      ]
     },
     "execution_count": 93,
     "metadata": {},
     "output_type": "execute_result"
    }
   ],
   "source": [
    "import pandas as pd\n",
    "import seaborn as sns\n",
    "import numpy as np \n",
    "url = 'https://raw.githubusercontent.com/yveness7/Marine_Mammals_vs_Climate_Change_mid_term_project/main/mammals%20data/actic_mammals.csv'\n",
    "df = pd.read_csv(url)\n",
    "df"
   ]
  },
  {
   "cell_type": "markdown",
   "id": "58cb7db5",
   "metadata": {},
   "source": [
    "## View the columns"
   ]
  },
  {
   "cell_type": "code",
   "execution_count": 94,
   "id": "bd66f16e",
   "metadata": {},
   "outputs": [
    {
     "data": {
      "text/plain": [
       "Index([' Date ', ' Latitude ', ' Longitude ', ' Location ', ' Species ',\n",
       "       ' Adult M ', ' Adult F ', ' Adult ', ' Subadult ',\n",
       "       ' Polar bear condition ', ' Polar bear den ', ' Cub/calf/pup ',\n",
       "       ' Bear cubs ', ' Dead/alive ', ' Unidentified ', ' Total ', ' Habitat ',\n",
       "       ' Occurrence remark '],\n",
       "      dtype='object')"
      ]
     },
     "execution_count": 94,
     "metadata": {},
     "output_type": "execute_result"
    }
   ],
   "source": [
    "df.columns"
   ]
  },
  {
   "cell_type": "markdown",
   "id": "8260a870",
   "metadata": {},
   "source": [
    "## Get spaces out of the column names "
   ]
  },
  {
   "cell_type": "code",
   "execution_count": 95,
   "id": "2721693a",
   "metadata": {},
   "outputs": [
    {
     "data": {
      "text/plain": [
       "Index(['Date', 'Latitude', 'Longitude', 'Location', 'Species', 'Adult M',\n",
       "       'Adult F', 'Adult', 'Subadult', 'Polar bear condition',\n",
       "       'Polar bear den', 'Cub/calf/pup', 'Bear cubs', 'Dead/alive',\n",
       "       'Unidentified', 'Total', 'Habitat', 'Occurrence remark'],\n",
       "      dtype='object')"
      ]
     },
     "execution_count": 95,
     "metadata": {},
     "output_type": "execute_result"
    }
   ],
   "source": [
    "\n",
    "df.rename(columns=lambda x: x.strip(), inplace=True)\n",
    "df.columns"
   ]
  },
  {
   "cell_type": "markdown",
   "id": "e4c9e976",
   "metadata": {},
   "source": [
    "## Change names to lower case "
   ]
  },
  {
   "cell_type": "code",
   "execution_count": 96,
   "id": "51667332",
   "metadata": {},
   "outputs": [
    {
     "data": {
      "text/plain": [
       "Index(['date', 'latitude', 'longitude', 'location', 'species', 'adult m',\n",
       "       'adult f', 'adult', 'subadult', 'polar bear condition',\n",
       "       'polar bear den', 'cub/calf/pup', 'bear cubs', 'dead/alive',\n",
       "       'unidentified', 'total', 'habitat', 'occurrence remark'],\n",
       "      dtype='object')"
      ]
     },
     "execution_count": 96,
     "metadata": {},
     "output_type": "execute_result"
    }
   ],
   "source": [
    "df.rename(columns=lambda x: x.lower(), inplace=True)\n",
    "df.columns"
   ]
  },
  {
   "cell_type": "markdown",
   "id": "7a76a633",
   "metadata": {},
   "source": [
    "## View the column 'species'"
   ]
  },
  {
   "cell_type": "code",
   "execution_count": 97,
   "id": "eda05ba2",
   "metadata": {},
   "outputs": [
    {
     "data": {
      "text/plain": [
       "array([' balaena mysticetus ', ' balaenoptera acutorostrata ',\n",
       "       ' balaenoptera borealis ', ' balaenoptera musculus ',\n",
       "       ' balaenoptera physalus ', ' cystophora cristata ',\n",
       "       ' delphinapterus leucas ', ' erignathus barbatus ',\n",
       "       ' globicephala melas ', ' hyperoodon ampullatus ',\n",
       "       ' lagenorhynchus albirostris ', ' megaptera novaeangliae ',\n",
       "       ' monodon monoceros ', ' odobenus rosmarus ', ' orcinus orca ',\n",
       "       ' phoca groenlandica ', ' phoca vitulina ',\n",
       "       ' physeter macrocephalus ', ' pusa hispida ', ' ursus maritimus '],\n",
       "      dtype=object)"
      ]
     },
     "execution_count": 97,
     "metadata": {},
     "output_type": "execute_result"
    }
   ],
   "source": [
    "df.species.unique()"
   ]
  },
  {
   "cell_type": "markdown",
   "id": "9fca1b8e",
   "metadata": {},
   "source": [
    "## Remove the spaces before and after the scientific names"
   ]
  },
  {
   "cell_type": "code",
   "execution_count": 98,
   "id": "4c4e1d7f",
   "metadata": {},
   "outputs": [
    {
     "data": {
      "text/plain": [
       "array(['balaena mysticetus', 'balaenoptera acutorostrata',\n",
       "       'balaenoptera borealis', 'balaenoptera musculus',\n",
       "       'balaenoptera physalus', 'cystophora cristata',\n",
       "       'delphinapterus leucas', 'erignathus barbatus',\n",
       "       'globicephala melas', 'hyperoodon ampullatus',\n",
       "       'lagenorhynchus albirostris', 'megaptera novaeangliae',\n",
       "       'monodon monoceros', 'odobenus rosmarus', 'orcinus orca',\n",
       "       'phoca groenlandica', 'phoca vitulina', 'physeter macrocephalus',\n",
       "       'pusa hispida', 'ursus maritimus'], dtype=object)"
      ]
     },
     "execution_count": 98,
     "metadata": {},
     "output_type": "execute_result"
    }
   ],
   "source": [
    "df['species'] = df['species'].str.strip()\n",
    "df.species.unique()"
   ]
  },
  {
   "cell_type": "markdown",
   "id": "11751a22",
   "metadata": {},
   "source": [
    "## View how many we got from each species "
   ]
  },
  {
   "cell_type": "code",
   "execution_count": 99,
   "id": "c1247432",
   "metadata": {},
   "outputs": [
    {
     "data": {
      "text/plain": [
       "ursus maritimus               3558\n",
       "odobenus rosmarus             2497\n",
       "balaenoptera acutorostrata    2233\n",
       "balaenoptera physalus         1632\n",
       "erignathus barbatus           1386\n",
       "megaptera novaeangliae        1088\n",
       "phoca groenlandica            1073\n",
       "lagenorhynchus albirostris    1014\n",
       "pusa hispida                   885\n",
       "phoca vitulina                 437\n",
       "cystophora cristata            407\n",
       "delphinapterus leucas          386\n",
       "balaenoptera musculus          332\n",
       "physeter macrocephalus         160\n",
       "balaena mysticetus              85\n",
       "orcinus orca                    66\n",
       "hyperoodon ampullatus           49\n",
       "monodon monoceros               40\n",
       "balaenoptera borealis           35\n",
       "globicephala melas              12\n",
       "Name: species, dtype: int64"
      ]
     },
     "execution_count": 99,
     "metadata": {},
     "output_type": "execute_result"
    }
   ],
   "source": [
    "df['species'].value_counts() "
   ]
  },
  {
   "cell_type": "markdown",
   "id": "10cdfb39",
   "metadata": {},
   "source": [
    "## Rename the species to their common names "
   ]
  },
  {
   "cell_type": "code",
   "execution_count": 100,
   "id": "f0da10b3",
   "metadata": {},
   "outputs": [],
   "source": [
    "df['species'] = df['species'].replace({'ursus maritimus': 'polar bear',\n",
    "                                       'odobenus rosmarus':'walrus',\n",
    "                                      'balaenoptera acutorostrata': 'common minkie whale',\n",
    "                                       'balaenoptera physalus':'fin whale',\n",
    "                                       'erignathus barbatus':'bearded seal',\n",
    "                                       'megaptera novaeangliae':'humpback whale',\n",
    "                                       'phoca groenlandica':'harp seal',\n",
    "                                       'lagenorhynchus albirostris':'white beaked dolphin',\n",
    "                                       'pusa hispida':'ringed seal',\n",
    "                                       'phoca vitulina':'harbor seal',\n",
    "                                       'cystophora cristata':'hooded seal',\n",
    "                                       'delphinapterus leucas':'beluga whale',\n",
    "                                       'balaenoptera musculus':'blue whale',\n",
    "                                       'physeter macrocephalus':'sperm whale',\n",
    "                                       'balaena mysticetus':'bowhead whale',\n",
    "                                       'orcinus orca':'orca',\n",
    "                                        'hyperoodon ampullatus':'northern bottlenose whale',\n",
    "                                       'monodon monoceros':'narwhal',\n",
    "                                       'balaenoptera borealis':'sei whale',\n",
    "                                       'globicephala melas':'long-finned pilot whale' })\n",
    "\n"
   ]
  },
  {
   "cell_type": "markdown",
   "id": "ea95f1aa",
   "metadata": {},
   "source": [
    "## View the common names to check if everything is alright"
   ]
  },
  {
   "cell_type": "code",
   "execution_count": 102,
   "id": "b1cc3b68",
   "metadata": {},
   "outputs": [
    {
     "data": {
      "text/plain": [
       "array(['bowhead whale', 'common minkie whale', 'sei whale', 'blue whale',\n",
       "       'fin whale', 'hooded seal', 'beluga whale', 'bearded seal',\n",
       "       'long-finned pilot whale', 'northern bottlenose whale',\n",
       "       'white beaked dolphin', 'humpback whale', 'narwhal', 'walrus',\n",
       "       'orca', 'harp seal', 'harbor seal', 'sperm whale', 'ringed seal',\n",
       "       'polar bear'], dtype=object)"
      ]
     },
     "execution_count": 102,
     "metadata": {},
     "output_type": "execute_result"
    }
   ],
   "source": [
    "df.species.unique()"
   ]
  },
  {
   "cell_type": "code",
   "execution_count": 103,
   "id": "adadd1cd",
   "metadata": {},
   "outputs": [
    {
     "data": {
      "text/plain": [
       "polar bear                   3558\n",
       "walrus                       2497\n",
       "common minkie whale          2233\n",
       "fin whale                    1632\n",
       "bearded seal                 1386\n",
       "humpback whale               1088\n",
       "harp seal                    1073\n",
       "white beaked dolphin         1014\n",
       "ringed seal                   885\n",
       "harbor seal                   437\n",
       "hooded seal                   407\n",
       "beluga whale                  386\n",
       "blue whale                    332\n",
       "sperm whale                   160\n",
       "bowhead whale                  85\n",
       "orca                           66\n",
       "northern bottlenose whale      49\n",
       "narwhal                        40\n",
       "sei whale                      35\n",
       "long-finned pilot whale        12\n",
       "Name: species, dtype: int64"
      ]
     },
     "execution_count": 103,
     "metadata": {},
     "output_type": "execute_result"
    }
   ],
   "source": [
    "df['species'].value_counts()"
   ]
  },
  {
   "cell_type": "markdown",
   "id": "61e08ecb",
   "metadata": {},
   "source": [
    "## View locations"
   ]
  },
  {
   "cell_type": "code",
   "execution_count": 104,
   "id": "5e974dec",
   "metadata": {},
   "outputs": [
    {
     "data": {
      "text/plain": [
       "array([' ', ' Nye Ålesund ', ' Fram Strait ', ..., ' Freemandsundut ',\n",
       "       ' Kapp Hammerfest ', ' Italianeset '], dtype=object)"
      ]
     },
     "execution_count": 104,
     "metadata": {},
     "output_type": "execute_result"
    }
   ],
   "source": [
    "df.location.unique() "
   ]
  },
  {
   "cell_type": "markdown",
   "id": "d849e38b",
   "metadata": {},
   "source": [
    "## Replace empty spaces in the names"
   ]
  },
  {
   "cell_type": "code",
   "execution_count": 105,
   "id": "fe8f661c",
   "metadata": {},
   "outputs": [
    {
     "data": {
      "text/plain": [
       "array(['', 'Nye Ålesund', 'Fram Strait', ..., 'Freemandsundut',\n",
       "       'Kapp Hammerfest', 'Italianeset'], dtype=object)"
      ]
     },
     "execution_count": 105,
     "metadata": {},
     "output_type": "execute_result"
    }
   ],
   "source": [
    "df['location'] = df['location'].str.strip()\n",
    "df.location.unique()"
   ]
  },
  {
   "cell_type": "code",
   "execution_count": 107,
   "id": "8e5447b0",
   "metadata": {},
   "outputs": [
    {
     "data": {
      "text/plain": [
       "                  7544\n",
       "Poolepynten        189\n",
       "Moffen             184\n",
       "ditto              156\n",
       "Liefdefjorden      141\n",
       "                  ... \n",
       "Pyramiden            1\n",
       "79.27N-019.52E       1\n",
       "8038N 0172E          1\n",
       "7857N 01152E         1\n",
       "Italianeset          1\n",
       "Name: location, Length: 2608, dtype: int64"
      ]
     },
     "execution_count": 107,
     "metadata": {},
     "output_type": "execute_result"
    }
   ],
   "source": [
    "df.location.value_counts()"
   ]
  },
  {
   "cell_type": "markdown",
   "id": "de757ab8",
   "metadata": {},
   "source": [
    "## Check unique locations"
   ]
  },
  {
   "cell_type": "code",
   "execution_count": 108,
   "id": "f5882896",
   "metadata": {},
   "outputs": [
    {
     "data": {
      "text/plain": [
       "2608"
      ]
     },
     "execution_count": 108,
     "metadata": {},
     "output_type": "execute_result"
    }
   ],
   "source": [
    "df.location.nunique() #2608 unique locations"
   ]
  },
  {
   "cell_type": "markdown",
   "id": "def20371",
   "metadata": {},
   "source": [
    "## Check unique date locations"
   ]
  },
  {
   "cell_type": "code",
   "execution_count": 109,
   "id": "70b08594",
   "metadata": {},
   "outputs": [
    {
     "data": {
      "text/plain": [
       "2120"
      ]
     },
     "execution_count": 109,
     "metadata": {},
     "output_type": "execute_result"
    }
   ],
   "source": [
    "df.date.nunique()"
   ]
  },
  {
   "cell_type": "markdown",
   "id": "e468d5fb",
   "metadata": {},
   "source": [
    "## Check n of unique habitats"
   ]
  },
  {
   "cell_type": "code",
   "execution_count": 110,
   "id": "8d1810a3",
   "metadata": {},
   "outputs": [
    {
     "data": {
      "text/plain": [
       "21"
      ]
     },
     "execution_count": 110,
     "metadata": {},
     "output_type": "execute_result"
    }
   ],
   "source": [
    "df.habitat.nunique()"
   ]
  },
  {
   "cell_type": "markdown",
   "id": "c6833e41",
   "metadata": {},
   "source": [
    "## Lower case and sprip that spaces from the habitats "
   ]
  },
  {
   "cell_type": "code",
   "execution_count": 111,
   "id": "c03996b0",
   "metadata": {},
   "outputs": [
    {
     "data": {
      "text/plain": [
       "array(['water', 'unknown', '', 'ice', 'land', 'ocean', 'at sea',\n",
       "       'at sea, ice edge', 'glacier ice', 'in hornsund', 'swimming',\n",
       "       'on land', 'land, water', 'swimming & on ice', 'beach',\n",
       "       'shore and water', '19.00 martin', 'fast ice', 'pack ice'],\n",
       "      dtype=object)"
      ]
     },
     "execution_count": 111,
     "metadata": {},
     "output_type": "execute_result"
    }
   ],
   "source": [
    "df['habitat'] = df['habitat'].str.strip()\n",
    "df['habitat'] = df['habitat'].str.lower()\n",
    "df.habitat.unique()"
   ]
  },
  {
   "cell_type": "code",
   "execution_count": 112,
   "id": "f17f4d90",
   "metadata": {},
   "outputs": [],
   "source": [
    "#maybe group them a bit better to have less categories, but do we really need them? "
   ]
  },
  {
   "cell_type": "markdown",
   "id": "67b9641d",
   "metadata": {},
   "source": [
    "## Drop the columns that we are not going to use for the purpose of the analysis"
   ]
  },
  {
   "cell_type": "code",
   "execution_count": 113,
   "id": "113ff0af",
   "metadata": {},
   "outputs": [
    {
     "data": {
      "text/plain": [
       "Index(['date', 'latitude', 'longitude', 'location', 'species', 'adult m',\n",
       "       'adult f', 'adult', 'subadult', 'polar bear condition',\n",
       "       'polar bear den', 'cub/calf/pup', 'bear cubs', 'dead/alive',\n",
       "       'unidentified', 'total', 'habitat', 'occurrence remark'],\n",
       "      dtype='object')"
      ]
     },
     "execution_count": 113,
     "metadata": {},
     "output_type": "execute_result"
    }
   ],
   "source": [
    "df.columns"
   ]
  },
  {
   "cell_type": "code",
   "execution_count": 114,
   "id": "637868e9",
   "metadata": {},
   "outputs": [],
   "source": [
    "df = df.drop(['adult m', 'adult f', 'adult', 'subadult', \n",
    "              'polar bear condition', 'polar bear den', \n",
    "              'cub/calf/pup','bear cubs','dead/alive',\n",
    "             'unidentified','occurrence remark'], axis=1)"
   ]
  },
  {
   "cell_type": "code",
   "execution_count": 115,
   "id": "99127638",
   "metadata": {
    "scrolled": true
   },
   "outputs": [
    {
     "data": {
      "text/html": [
       "<div>\n",
       "<style scoped>\n",
       "    .dataframe tbody tr th:only-of-type {\n",
       "        vertical-align: middle;\n",
       "    }\n",
       "\n",
       "    .dataframe tbody tr th {\n",
       "        vertical-align: top;\n",
       "    }\n",
       "\n",
       "    .dataframe thead th {\n",
       "        text-align: right;\n",
       "    }\n",
       "</style>\n",
       "<table border=\"1\" class=\"dataframe\">\n",
       "  <thead>\n",
       "    <tr style=\"text-align: right;\">\n",
       "      <th></th>\n",
       "      <th>date</th>\n",
       "      <th>latitude</th>\n",
       "      <th>longitude</th>\n",
       "      <th>location</th>\n",
       "      <th>species</th>\n",
       "      <th>total</th>\n",
       "      <th>habitat</th>\n",
       "    </tr>\n",
       "  </thead>\n",
       "  <tbody>\n",
       "    <tr>\n",
       "      <th>0</th>\n",
       "      <td>2000-07-29</td>\n",
       "      <td>78.55</td>\n",
       "      <td>25.416667</td>\n",
       "      <td></td>\n",
       "      <td>bowhead whale</td>\n",
       "      <td>1</td>\n",
       "      <td>water</td>\n",
       "    </tr>\n",
       "    <tr>\n",
       "      <th>1</th>\n",
       "      <td>2000-08-08</td>\n",
       "      <td>79.1166666666667</td>\n",
       "      <td>21.441667</td>\n",
       "      <td></td>\n",
       "      <td>bowhead whale</td>\n",
       "      <td>1</td>\n",
       "      <td>water</td>\n",
       "    </tr>\n",
       "    <tr>\n",
       "      <th>2</th>\n",
       "      <td>2000-08-16</td>\n",
       "      <td>78.917</td>\n",
       "      <td>24.050000</td>\n",
       "      <td></td>\n",
       "      <td>bowhead whale</td>\n",
       "      <td>1</td>\n",
       "      <td>water</td>\n",
       "    </tr>\n",
       "    <tr>\n",
       "      <th>3</th>\n",
       "      <td>2001-08-08</td>\n",
       "      <td>79.268</td>\n",
       "      <td>20.858000</td>\n",
       "      <td></td>\n",
       "      <td>bowhead whale</td>\n",
       "      <td>1</td>\n",
       "      <td>water</td>\n",
       "    </tr>\n",
       "    <tr>\n",
       "      <th>4</th>\n",
       "      <td>2005-08-06</td>\n",
       "      <td>78.932</td>\n",
       "      <td>11.922000</td>\n",
       "      <td>Nye Ålesund</td>\n",
       "      <td>bowhead whale</td>\n",
       "      <td>1</td>\n",
       "      <td>water</td>\n",
       "    </tr>\n",
       "    <tr>\n",
       "      <th>...</th>\n",
       "      <td>...</td>\n",
       "      <td>...</td>\n",
       "      <td>...</td>\n",
       "      <td>...</td>\n",
       "      <td>...</td>\n",
       "      <td>...</td>\n",
       "      <td>...</td>\n",
       "    </tr>\n",
       "    <tr>\n",
       "      <th>17370</th>\n",
       "      <td>2006-07-25</td>\n",
       "      <td>80.703</td>\n",
       "      <td>20.883000</td>\n",
       "      <td>Phippsøya</td>\n",
       "      <td>polar bear</td>\n",
       "      <td>19</td>\n",
       "      <td>land</td>\n",
       "    </tr>\n",
       "    <tr>\n",
       "      <th>17371</th>\n",
       "      <td>2010-09-21</td>\n",
       "      <td>80.1107</td>\n",
       "      <td>28.079700</td>\n",
       "      <td>Storøya</td>\n",
       "      <td>polar bear</td>\n",
       "      <td>20</td>\n",
       "      <td>unknown</td>\n",
       "    </tr>\n",
       "    <tr>\n",
       "      <th>17372</th>\n",
       "      <td>2012-07-11</td>\n",
       "      <td>79.01</td>\n",
       "      <td>20.500000</td>\n",
       "      <td>Hochstetterbreen</td>\n",
       "      <td>polar bear</td>\n",
       "      <td>22</td>\n",
       "      <td>ice</td>\n",
       "    </tr>\n",
       "    <tr>\n",
       "      <th>17373</th>\n",
       "      <td>2015-08-28</td>\n",
       "      <td>78.9354</td>\n",
       "      <td>28.635900</td>\n",
       "      <td>Kongsøya</td>\n",
       "      <td>polar bear</td>\n",
       "      <td>30</td>\n",
       "      <td>land</td>\n",
       "    </tr>\n",
       "    <tr>\n",
       "      <th>17374</th>\n",
       "      <td>2004-09-01</td>\n",
       "      <td>79.869</td>\n",
       "      <td>27.179000</td>\n",
       "      <td>Italianeset</td>\n",
       "      <td>polar bear</td>\n",
       "      <td>32</td>\n",
       "      <td>land</td>\n",
       "    </tr>\n",
       "  </tbody>\n",
       "</table>\n",
       "<p>17375 rows × 7 columns</p>\n",
       "</div>"
      ],
      "text/plain": [
       "               date          latitude  longitude          location  \\\n",
       "0       2000-07-29              78.55  25.416667                     \n",
       "1       2000-08-08   79.1166666666667  21.441667                     \n",
       "2       2000-08-16             78.917  24.050000                     \n",
       "3       2001-08-08             79.268  20.858000                     \n",
       "4       2005-08-06             78.932  11.922000       Nye Ålesund   \n",
       "...             ...               ...        ...               ...   \n",
       "17370   2006-07-25             80.703  20.883000         Phippsøya   \n",
       "17371   2010-09-21            80.1107  28.079700           Storøya   \n",
       "17372   2012-07-11              79.01  20.500000  Hochstetterbreen   \n",
       "17373   2015-08-28            78.9354  28.635900          Kongsøya   \n",
       "17374   2004-09-01             79.869  27.179000       Italianeset   \n",
       "\n",
       "             species total  habitat  \n",
       "0      bowhead whale     1    water  \n",
       "1      bowhead whale     1    water  \n",
       "2      bowhead whale     1    water  \n",
       "3      bowhead whale     1    water  \n",
       "4      bowhead whale     1    water  \n",
       "...              ...   ...      ...  \n",
       "17370     polar bear    19     land  \n",
       "17371     polar bear    20  unknown  \n",
       "17372     polar bear    22      ice  \n",
       "17373     polar bear    30     land  \n",
       "17374     polar bear    32     land  \n",
       "\n",
       "[17375 rows x 7 columns]"
      ]
     },
     "execution_count": 115,
     "metadata": {},
     "output_type": "execute_result"
    }
   ],
   "source": [
    "df"
   ]
  },
  {
   "cell_type": "code",
   "execution_count": 116,
   "id": "55384949",
   "metadata": {},
   "outputs": [
    {
     "data": {
      "text/plain": [
       "water                5822\n",
       "unknown              4456\n",
       "land                 2778\n",
       "ice                  2533\n",
       "                     1757\n",
       "fast ice                5\n",
       "at sea                  5\n",
       "pack ice                4\n",
       "ocean                   4\n",
       "at sea, ice edge        2\n",
       "glacier ice             1\n",
       "swimming                1\n",
       "on land                 1\n",
       "land, water             1\n",
       "swimming & on ice       1\n",
       "beach                   1\n",
       "shore and water         1\n",
       "19.00 martin            1\n",
       "in hornsund             1\n",
       "Name: habitat, dtype: int64"
      ]
     },
     "execution_count": 116,
     "metadata": {},
     "output_type": "execute_result"
    }
   ],
   "source": [
    "df['habitat'].value_counts() #maybe we dont need habitat at all actually "
   ]
  },
  {
   "cell_type": "markdown",
   "id": "eb27dfe3",
   "metadata": {},
   "source": [
    "## Now we need to fix the location"
   ]
  },
  {
   "cell_type": "code",
   "execution_count": 117,
   "id": "80a430c1",
   "metadata": {},
   "outputs": [
    {
     "data": {
      "text/plain": [
       "                  7544\n",
       "Poolepynten        189\n",
       "Moffen             184\n",
       "ditto              156\n",
       "Liefdefjorden      141\n",
       "                  ... \n",
       "Pyramiden            1\n",
       "79.27N-019.52E       1\n",
       "8038N 0172E          1\n",
       "7857N 01152E         1\n",
       "Italianeset          1\n",
       "Name: location, Length: 2608, dtype: int64"
      ]
     },
     "execution_count": 117,
     "metadata": {},
     "output_type": "execute_result"
    }
   ],
   "source": [
    "df['location'].value_counts()"
   ]
  },
  {
   "cell_type": "code",
   "execution_count": 118,
   "id": "c9f3c1a2",
   "metadata": {},
   "outputs": [
    {
     "data": {
      "text/plain": [
       "                  7544\n",
       "Poolepynten        189\n",
       "Moffen             184\n",
       "ditto              156\n",
       "Liefdefjorden      141\n",
       "                  ... \n",
       "Pyramiden            1\n",
       "79.27N-019.52E       1\n",
       "8038N 0172E          1\n",
       "7857N 01152E         1\n",
       "Italianeset          1\n",
       "Name: location, Length: 2608, dtype: int64"
      ]
     },
     "execution_count": 118,
     "metadata": {},
     "output_type": "execute_result"
    }
   ],
   "source": [
    "df['location'].fillna('N',inplace=True)\n",
    "df['location'].value_counts()"
   ]
  },
  {
   "cell_type": "code",
   "execution_count": null,
   "id": "8dcbf856",
   "metadata": {},
   "outputs": [],
   "source": []
  },
  {
   "cell_type": "markdown",
   "id": "c2515e31",
   "metadata": {},
   "source": [
    "## We'll try to clean the latitude and longtiture column and strip the data from empty spaces"
   ]
  },
  {
   "cell_type": "code",
   "execution_count": 119,
   "id": "0b251237",
   "metadata": {},
   "outputs": [],
   "source": [
    "df['latitude'] = df['latitude'].str.strip()\n",
    "#df['longitude'] = df['longitude'].str.strip()"
   ]
  },
  {
   "cell_type": "code",
   "execution_count": 120,
   "id": "49511ab9",
   "metadata": {},
   "outputs": [
    {
     "data": {
      "text/plain": [
       "date          object\n",
       "latitude      object\n",
       "longitude    float64\n",
       "location      object\n",
       "species       object\n",
       "total         object\n",
       "habitat       object\n",
       "dtype: object"
      ]
     },
     "execution_count": 120,
     "metadata": {},
     "output_type": "execute_result"
    }
   ],
   "source": [
    "df.dtypes"
   ]
  },
  {
   "cell_type": "markdown",
   "id": "55dad18c",
   "metadata": {},
   "source": [
    "## We need to convert the longiture into an object "
   ]
  },
  {
   "cell_type": "code",
   "execution_count": 34,
   "id": "7eba1781",
   "metadata": {},
   "outputs": [],
   "source": [
    "df['longitude'] = df.longitude.astype(object)"
   ]
  },
  {
   "cell_type": "code",
   "execution_count": 35,
   "id": "7518d312",
   "metadata": {},
   "outputs": [
    {
     "data": {
      "text/plain": [
       "date         object\n",
       "latitude     object\n",
       "longitude    object\n",
       "location     object\n",
       "species      object\n",
       "total        object\n",
       "habitat      object\n",
       "dtype: object"
      ]
     },
     "execution_count": 35,
     "metadata": {},
     "output_type": "execute_result"
    }
   ],
   "source": [
    "df.dtypes"
   ]
  },
  {
   "cell_type": "code",
   "execution_count": 38,
   "id": "66b53747",
   "metadata": {},
   "outputs": [
    {
     "ename": "AttributeError",
     "evalue": "Can only use .str accessor with string values!",
     "output_type": "error",
     "traceback": [
      "\u001b[0;31m---------------------------------------------------------------------------\u001b[0m",
      "\u001b[0;31mAttributeError\u001b[0m                            Traceback (most recent call last)",
      "Cell \u001b[0;32mIn[38], line 1\u001b[0m\n\u001b[0;32m----> 1\u001b[0m df[\u001b[38;5;124m'\u001b[39m\u001b[38;5;124mlongitude\u001b[39m\u001b[38;5;124m'\u001b[39m] \u001b[38;5;241m=\u001b[39m df[\u001b[38;5;124m'\u001b[39m\u001b[38;5;124mlongitude\u001b[39m\u001b[38;5;124m'\u001b[39m]\u001b[38;5;241m.\u001b[39mstr\u001b[38;5;241m.\u001b[39mstrip()\n",
      "File \u001b[0;32m~/anaconda3/lib/python3.11/site-packages/pandas/core/generic.py:5902\u001b[0m, in \u001b[0;36mNDFrame.__getattr__\u001b[0;34m(self, name)\u001b[0m\n\u001b[1;32m   5895\u001b[0m \u001b[38;5;28;01mif\u001b[39;00m (\n\u001b[1;32m   5896\u001b[0m     name \u001b[38;5;129;01mnot\u001b[39;00m \u001b[38;5;129;01min\u001b[39;00m \u001b[38;5;28mself\u001b[39m\u001b[38;5;241m.\u001b[39m_internal_names_set\n\u001b[1;32m   5897\u001b[0m     \u001b[38;5;129;01mand\u001b[39;00m name \u001b[38;5;129;01mnot\u001b[39;00m \u001b[38;5;129;01min\u001b[39;00m \u001b[38;5;28mself\u001b[39m\u001b[38;5;241m.\u001b[39m_metadata\n\u001b[1;32m   5898\u001b[0m     \u001b[38;5;129;01mand\u001b[39;00m name \u001b[38;5;129;01mnot\u001b[39;00m \u001b[38;5;129;01min\u001b[39;00m \u001b[38;5;28mself\u001b[39m\u001b[38;5;241m.\u001b[39m_accessors\n\u001b[1;32m   5899\u001b[0m     \u001b[38;5;129;01mand\u001b[39;00m \u001b[38;5;28mself\u001b[39m\u001b[38;5;241m.\u001b[39m_info_axis\u001b[38;5;241m.\u001b[39m_can_hold_identifiers_and_holds_name(name)\n\u001b[1;32m   5900\u001b[0m ):\n\u001b[1;32m   5901\u001b[0m     \u001b[38;5;28;01mreturn\u001b[39;00m \u001b[38;5;28mself\u001b[39m[name]\n\u001b[0;32m-> 5902\u001b[0m \u001b[38;5;28;01mreturn\u001b[39;00m \u001b[38;5;28mobject\u001b[39m\u001b[38;5;241m.\u001b[39m\u001b[38;5;21m__getattribute__\u001b[39m(\u001b[38;5;28mself\u001b[39m, name)\n",
      "File \u001b[0;32m~/anaconda3/lib/python3.11/site-packages/pandas/core/accessor.py:182\u001b[0m, in \u001b[0;36mCachedAccessor.__get__\u001b[0;34m(self, obj, cls)\u001b[0m\n\u001b[1;32m    179\u001b[0m \u001b[38;5;28;01mif\u001b[39;00m obj \u001b[38;5;129;01mis\u001b[39;00m \u001b[38;5;28;01mNone\u001b[39;00m:\n\u001b[1;32m    180\u001b[0m     \u001b[38;5;66;03m# we're accessing the attribute of the class, i.e., Dataset.geo\u001b[39;00m\n\u001b[1;32m    181\u001b[0m     \u001b[38;5;28;01mreturn\u001b[39;00m \u001b[38;5;28mself\u001b[39m\u001b[38;5;241m.\u001b[39m_accessor\n\u001b[0;32m--> 182\u001b[0m accessor_obj \u001b[38;5;241m=\u001b[39m \u001b[38;5;28mself\u001b[39m\u001b[38;5;241m.\u001b[39m_accessor(obj)\n\u001b[1;32m    183\u001b[0m \u001b[38;5;66;03m# Replace the property with the accessor object. Inspired by:\u001b[39;00m\n\u001b[1;32m    184\u001b[0m \u001b[38;5;66;03m# https://www.pydanny.com/cached-property.html\u001b[39;00m\n\u001b[1;32m    185\u001b[0m \u001b[38;5;66;03m# We need to use object.__setattr__ because we overwrite __setattr__ on\u001b[39;00m\n\u001b[1;32m    186\u001b[0m \u001b[38;5;66;03m# NDFrame\u001b[39;00m\n\u001b[1;32m    187\u001b[0m \u001b[38;5;28mobject\u001b[39m\u001b[38;5;241m.\u001b[39m\u001b[38;5;21m__setattr__\u001b[39m(obj, \u001b[38;5;28mself\u001b[39m\u001b[38;5;241m.\u001b[39m_name, accessor_obj)\n",
      "File \u001b[0;32m~/anaconda3/lib/python3.11/site-packages/pandas/core/strings/accessor.py:181\u001b[0m, in \u001b[0;36mStringMethods.__init__\u001b[0;34m(self, data)\u001b[0m\n\u001b[1;32m    178\u001b[0m \u001b[38;5;28;01mdef\u001b[39;00m \u001b[38;5;21m__init__\u001b[39m(\u001b[38;5;28mself\u001b[39m, data) \u001b[38;5;241m-\u001b[39m\u001b[38;5;241m>\u001b[39m \u001b[38;5;28;01mNone\u001b[39;00m:\n\u001b[1;32m    179\u001b[0m     \u001b[38;5;28;01mfrom\u001b[39;00m \u001b[38;5;21;01mpandas\u001b[39;00m\u001b[38;5;21;01m.\u001b[39;00m\u001b[38;5;21;01mcore\u001b[39;00m\u001b[38;5;21;01m.\u001b[39;00m\u001b[38;5;21;01marrays\u001b[39;00m\u001b[38;5;21;01m.\u001b[39;00m\u001b[38;5;21;01mstring_\u001b[39;00m \u001b[38;5;28;01mimport\u001b[39;00m StringDtype\n\u001b[0;32m--> 181\u001b[0m     \u001b[38;5;28mself\u001b[39m\u001b[38;5;241m.\u001b[39m_inferred_dtype \u001b[38;5;241m=\u001b[39m \u001b[38;5;28mself\u001b[39m\u001b[38;5;241m.\u001b[39m_validate(data)\n\u001b[1;32m    182\u001b[0m     \u001b[38;5;28mself\u001b[39m\u001b[38;5;241m.\u001b[39m_is_categorical \u001b[38;5;241m=\u001b[39m is_categorical_dtype(data\u001b[38;5;241m.\u001b[39mdtype)\n\u001b[1;32m    183\u001b[0m     \u001b[38;5;28mself\u001b[39m\u001b[38;5;241m.\u001b[39m_is_string \u001b[38;5;241m=\u001b[39m \u001b[38;5;28misinstance\u001b[39m(data\u001b[38;5;241m.\u001b[39mdtype, StringDtype)\n",
      "File \u001b[0;32m~/anaconda3/lib/python3.11/site-packages/pandas/core/strings/accessor.py:235\u001b[0m, in \u001b[0;36mStringMethods._validate\u001b[0;34m(data)\u001b[0m\n\u001b[1;32m    232\u001b[0m inferred_dtype \u001b[38;5;241m=\u001b[39m lib\u001b[38;5;241m.\u001b[39minfer_dtype(values, skipna\u001b[38;5;241m=\u001b[39m\u001b[38;5;28;01mTrue\u001b[39;00m)\n\u001b[1;32m    234\u001b[0m \u001b[38;5;28;01mif\u001b[39;00m inferred_dtype \u001b[38;5;129;01mnot\u001b[39;00m \u001b[38;5;129;01min\u001b[39;00m allowed_types:\n\u001b[0;32m--> 235\u001b[0m     \u001b[38;5;28;01mraise\u001b[39;00m \u001b[38;5;167;01mAttributeError\u001b[39;00m(\u001b[38;5;124m\"\u001b[39m\u001b[38;5;124mCan only use .str accessor with string values!\u001b[39m\u001b[38;5;124m\"\u001b[39m)\n\u001b[1;32m    236\u001b[0m \u001b[38;5;28;01mreturn\u001b[39;00m inferred_dtype\n",
      "\u001b[0;31mAttributeError\u001b[0m: Can only use .str accessor with string values!"
     ]
    }
   ],
   "source": [
    "df['longitude'] = df['longitude'].str.strip()"
   ]
  },
  {
   "cell_type": "markdown",
   "id": "7ef2fd40",
   "metadata": {},
   "source": [
    "## How to fix the geolocation data\n",
    "\n",
    "   1. Use GeoPy to find the country for each non-blank location.\n",
    "   2. Handle any exceptions or locations that GeoPy cannot resolve.\n",
    "   3. Update the DataFrame with the new country information.\n",
    "   4. Display the updated DataFrame."
   ]
  },
  {
   "cell_type": "code",
   "execution_count": 121,
   "id": "eb7d9d75",
   "metadata": {},
   "outputs": [
    {
     "data": {
      "text/plain": [
       "                  7544\n",
       "Poolepynten        189\n",
       "Moffen             184\n",
       "ditto              156\n",
       "Liefdefjorden      141\n",
       "                  ... \n",
       "Pyramiden            1\n",
       "79.27N-019.52E       1\n",
       "8038N 0172E          1\n",
       "7857N 01152E         1\n",
       "Italianeset          1\n",
       "Name: location, Length: 2608, dtype: int64"
      ]
     },
     "execution_count": 121,
     "metadata": {},
     "output_type": "execute_result"
    }
   ],
   "source": [
    "df['location'].value_counts()\n",
    "                "
   ]
  },
  {
   "cell_type": "code",
   "execution_count": 141,
   "id": "2c27b940",
   "metadata": {},
   "outputs": [
    {
     "data": {
      "text/plain": [
       "                         7544\n",
       "Norway                   4133\n",
       "Unknown                   601\n",
       "Ardneset                   26\n",
       "Bellsund                   25\n",
       "                         ... \n",
       "Nilspollen                  1\n",
       "Forlandsrevet               1\n",
       "Magdalenebåen               1\n",
       "80°45.30'N 21°30.20'E       1\n",
       "Alfarvegen                  1\n",
       "Name: location, Length: 2122, dtype: int64"
      ]
     },
     "execution_count": 141,
     "metadata": {},
     "output_type": "execute_result"
    }
   ],
   "source": [
    "norway = lambda x:'Norway' if isinstance(x, str) and any(keyword in x for keyword in ['Poolepynten',\n",
    "                                                                                   'Moffen','Liefdefjorden',\n",
    "                                                                                   'Pyramiden','79.27N-019.52E',\n",
    "                                                                                      'South of Fugelsangen',\n",
    "                                                                                      'Fast ice, Sallyhamna',\n",
    "                                                                                     'Entrance to Leifdefjorden',\n",
    "                                                                                      'Smeerenburg','Fuglefjorden',\n",
    "                                                                                      'Woodfjorden','Woodfjord',\n",
    "                                                                                      'Nye Ålesund',\n",
    "                                                                                      'Phippsøya',\n",
    "                                                                                      'Hochstetterbreen',\n",
    "                                                                                      'Kongsøya',\n",
    "                                                                                      'Storøya',\n",
    "                                                                                      'Torellneset',\n",
    "                                                                                      'Andøyane',\n",
    "                                                                                      'Hornsund',\n",
    "                                                                                      'Isfjorden',\n",
    "                                                                                      'Freemansundet',\n",
    "                                                                                      'Isflaksbukta',\n",
    "                                                                                      'Freemansundet',\n",
    "                                                                                      'Magdalenefjorden',\n",
    "                                                                                      'Virgohamna',\n",
    "                                                                                      'Kongsfjorden',\n",
    "                                                                                      'Storfjorden',\n",
    "                                                                                      'Holmiabukta',\n",
    "                                                                                      'Hamiltonbukta',\n",
    "                                                                                      'Hinlopenstretet',\n",
    "                                                                                      'Alkefjellet',\n",
    "                                                                                      'Smeerenbergbukta',\n",
    "                                                                                      'Selmaneset',\n",
    "                                                                                      'Malbukta',\n",
    "                                                                                      'hornbreen',\n",
    "                                                                                      'Belmøya','Freemandsundut',\n",
    "                                                                                      'Hinlopen',\n",
    "                                                                                      'Trygghamna',\n",
    "                                                                                      'Brandalpynten',\n",
    "                                                                                      'Mushamna',\n",
    "                                                                                      'Forlandsundet',\n",
    "                                             'LützowHolmodden',\n",
    "'Glitneset',\n",
    "'Lillienhöökfjorden-Signehamna'\n",
    "'Norskøyasundet'                    \n",
    "'Kapp Hammerfest'     ,                                   'Lågøya',\n",
    "                                                                                      'Raudfjorden',\n",
    "'Fram Strait' ,                       \n",
    "'Ny-Ålesund'  ,                      \n",
    "                                 \n",
    "'Magdalenafjorden NV'  ,               \n",
    "'Lillienhöökfjorden-Signehamna'  ,     \n",
    "'Norskøyasundet'        ,             \n",
    "'Whalbergøya'   ,                      \n",
    "'Kapp Hammerfest '   ,                                                                                   'Tyneset','Isispynten',\n",
    "  'Sveasletta' ,              \n",
    "'N of Ytre Norskøya',       \n",
    "'Reinsdyrstranda' ,        \n",
    "'Boltholmen'    ,           \n",
    "'Kapp Hammerfest'  ,                                                                                  'Kvitøya','Palanderbukta',\n",
    "                                                                                      'Lomfjorden',\n",
    "                                                                                      'Vibebukta','Monacobreen',\n",
    "                                                                                      'Bråsvellbreen',\n",
    "                                                                                      'Burgerbukta',\n",
    "                                                                                      'Svenskøya','Bjornhamna',\n",
    "                                                                                      'Sørgattet','Brepollen',\n",
    "                                                                                      'Dolerittneset',\n",
    "                                                                                      'Olgastretet','Krossfjorden',\n",
    "                                                                                      'Kræmerpynten','Murchisonfjorden',\n",
    "                                                                                      'Hopen MeteoStation',\n",
    "                                                                                      'Svartskjer',\n",
    "                                                                                      'Kapp Lee','Ny Ålesund',\n",
    "                                                                                      'E Edgeoya','Sallyhamna',\n",
    "                                                                                      'Nordenskioldkysten',\n",
    "                                                                                      'Recherchefjorden'\n",
    "                                                                                      \n",
    "                                                                                      \n",
    "                                                                                \n",
    "                                                                                      \n",
    "                                                                                      \n",
    "                                                                                      \n",
    "                                                                                      \n",
    "                                                                                   ]) else x\n",
    "\n",
    "\n",
    "df['location'] = df['location'].apply(norway)\n",
    "df['location'].value_counts()\n",
    "\n",
    "\n",
    "unknown = lambda y:'Unknown' if isinstance(y, str) and any(keyword in y for keyword in ['ditto','Italianeset',\n",
    "                                                                                        'Wikinsbukta','Sea',\n",
    "                                                                                        'Pack-ice','Vågehval',\n",
    "                                                                                        '      ','in ice','Pack ice',\n",
    "                                                                                        'Pack Ice',\n",
    "                                                                                        'pack ice'\n",
    "                                                                                    ]) else y\n",
    "\n",
    "\n",
    "df['location'] = df['location'].apply(unknown)\n",
    "df['location'].value_counts()\n",
    "\n",
    "\n",
    "\n"
   ]
  },
  {
   "cell_type": "code",
   "execution_count": 142,
   "id": "0b8bc59d",
   "metadata": {},
   "outputs": [
    {
     "data": {
      "text/plain": [
       "0               \n",
       "1               \n",
       "2               \n",
       "3               \n",
       "4         Norway\n",
       "          ...   \n",
       "17370     Norway\n",
       "17371     Norway\n",
       "17372     Norway\n",
       "17373     Norway\n",
       "17374    Unknown\n",
       "Name: location, Length: 17375, dtype: object"
      ]
     },
     "execution_count": 142,
     "metadata": {},
     "output_type": "execute_result"
    }
   ],
   "source": [
    "df['location']"
   ]
  },
  {
   "cell_type": "code",
   "execution_count": 88,
   "id": "e2a3c5cd",
   "metadata": {},
   "outputs": [
    {
     "data": {
      "text/plain": [
       "0               \n",
       "1               \n",
       "2               \n",
       "3               \n",
       "4         Norway\n",
       "          ...   \n",
       "17370     Norway\n",
       "17371     Norway\n",
       "17372     Norway\n",
       "17373     Norway\n",
       "17374    Unknown\n",
       "Name: location, Length: 17375, dtype: object"
      ]
     },
     "execution_count": 88,
     "metadata": {},
     "output_type": "execute_result"
    }
   ],
   "source": [
    "df['location'] = df['location'].fillna('N')\n",
    "df['location']"
   ]
  },
  {
   "cell_type": "markdown",
   "id": "713b5321",
   "metadata": {},
   "source": [
    "## apply masks on the latitude and longitude"
   ]
  },
  {
   "cell_type": "code",
   "execution_count": 47,
   "id": "925efa4f",
   "metadata": {},
   "outputs": [
    {
     "ename": "AttributeError",
     "evalue": "'Norway' is not a valid function for 'Series' object",
     "output_type": "error",
     "traceback": [
      "\u001b[0;31m---------------------------------------------------------------------------\u001b[0m",
      "\u001b[0;31mAttributeError\u001b[0m                            Traceback (most recent call last)",
      "Cell \u001b[0;32mIn[47], line 15\u001b[0m\n\u001b[1;32m      2\u001b[0m location_to_country \u001b[38;5;241m=\u001b[39m {\n\u001b[1;32m      3\u001b[0m     \u001b[38;5;124m\"\u001b[39m\u001b[38;5;124mPoolepynten\u001b[39m\u001b[38;5;124m\"\u001b[39m: \u001b[38;5;124m\"\u001b[39m\u001b[38;5;124mNorway\u001b[39m\u001b[38;5;124m\"\u001b[39m,\n\u001b[1;32m      4\u001b[0m     \u001b[38;5;124m\"\u001b[39m\u001b[38;5;124mMoffen\u001b[39m\u001b[38;5;124m\"\u001b[39m: \u001b[38;5;124m\"\u001b[39m\u001b[38;5;124mNorway\u001b[39m\u001b[38;5;124m\"\u001b[39m,\n\u001b[0;32m   (...)\u001b[0m\n\u001b[1;32m      8\u001b[0m     \u001b[38;5;124m\"\u001b[39m\u001b[38;5;124m8038N 0172E\u001b[39m\u001b[38;5;124m\"\u001b[39m: \u001b[38;5;124m\"\u001b[39m\u001b[38;5;124mGreenland\u001b[39m\u001b[38;5;124m\"\u001b[39m,\n\u001b[1;32m      9\u001b[0m     \u001b[38;5;124m\"\u001b[39m\u001b[38;5;124mItalianeset\u001b[39m\u001b[38;5;124m\"\u001b[39m:\u001b[38;5;124m\"\u001b[39m\u001b[38;5;124mUnknown\u001b[39m\u001b[38;5;124m\"\u001b[39m }\n\u001b[1;32m     11\u001b[0m \u001b[38;5;66;03m#countries = lambda location:location_to_country.get(location, \"Unknown\")  \u001b[39;00m\n\u001b[1;32m     12\u001b[0m \u001b[38;5;66;03m#countries\u001b[39;00m\n\u001b[0;32m---> 15\u001b[0m df[\u001b[38;5;124m'\u001b[39m\u001b[38;5;124mcountry\u001b[39m\u001b[38;5;124m'\u001b[39m] \u001b[38;5;241m=\u001b[39m df[\u001b[38;5;124m'\u001b[39m\u001b[38;5;124mlocation\u001b[39m\u001b[38;5;124m'\u001b[39m]\u001b[38;5;241m.\u001b[39mapply(location_to_country)\n",
      "File \u001b[0;32m~/anaconda3/lib/python3.11/site-packages/pandas/core/series.py:4771\u001b[0m, in \u001b[0;36mSeries.apply\u001b[0;34m(self, func, convert_dtype, args, **kwargs)\u001b[0m\n\u001b[1;32m   4661\u001b[0m \u001b[38;5;28;01mdef\u001b[39;00m \u001b[38;5;21mapply\u001b[39m(\n\u001b[1;32m   4662\u001b[0m     \u001b[38;5;28mself\u001b[39m,\n\u001b[1;32m   4663\u001b[0m     func: AggFuncType,\n\u001b[0;32m   (...)\u001b[0m\n\u001b[1;32m   4666\u001b[0m     \u001b[38;5;241m*\u001b[39m\u001b[38;5;241m*\u001b[39mkwargs,\n\u001b[1;32m   4667\u001b[0m ) \u001b[38;5;241m-\u001b[39m\u001b[38;5;241m>\u001b[39m DataFrame \u001b[38;5;241m|\u001b[39m Series:\n\u001b[1;32m   4668\u001b[0m \u001b[38;5;250m    \u001b[39m\u001b[38;5;124;03m\"\"\"\u001b[39;00m\n\u001b[1;32m   4669\u001b[0m \u001b[38;5;124;03m    Invoke function on values of Series.\u001b[39;00m\n\u001b[1;32m   4670\u001b[0m \n\u001b[0;32m   (...)\u001b[0m\n\u001b[1;32m   4769\u001b[0m \u001b[38;5;124;03m    dtype: float64\u001b[39;00m\n\u001b[1;32m   4770\u001b[0m \u001b[38;5;124;03m    \"\"\"\u001b[39;00m\n\u001b[0;32m-> 4771\u001b[0m     \u001b[38;5;28;01mreturn\u001b[39;00m SeriesApply(\u001b[38;5;28mself\u001b[39m, func, convert_dtype, args, kwargs)\u001b[38;5;241m.\u001b[39mapply()\n",
      "File \u001b[0;32m~/anaconda3/lib/python3.11/site-packages/pandas/core/apply.py:1116\u001b[0m, in \u001b[0;36mSeriesApply.apply\u001b[0;34m(self)\u001b[0m\n\u001b[1;32m   1114\u001b[0m \u001b[38;5;66;03m# dispatch to agg\u001b[39;00m\n\u001b[1;32m   1115\u001b[0m \u001b[38;5;28;01mif\u001b[39;00m is_list_like(\u001b[38;5;28mself\u001b[39m\u001b[38;5;241m.\u001b[39mf):\n\u001b[0;32m-> 1116\u001b[0m     \u001b[38;5;28;01mreturn\u001b[39;00m \u001b[38;5;28mself\u001b[39m\u001b[38;5;241m.\u001b[39mapply_multiple()\n\u001b[1;32m   1118\u001b[0m \u001b[38;5;28;01mif\u001b[39;00m \u001b[38;5;28misinstance\u001b[39m(\u001b[38;5;28mself\u001b[39m\u001b[38;5;241m.\u001b[39mf, \u001b[38;5;28mstr\u001b[39m):\n\u001b[1;32m   1119\u001b[0m     \u001b[38;5;66;03m# if we are a string, try to dispatch\u001b[39;00m\n\u001b[1;32m   1120\u001b[0m     \u001b[38;5;28;01mreturn\u001b[39;00m \u001b[38;5;28mself\u001b[39m\u001b[38;5;241m.\u001b[39mapply_str()\n",
      "File \u001b[0;32m~/anaconda3/lib/python3.11/site-packages/pandas/core/apply.py:591\u001b[0m, in \u001b[0;36mApply.apply_multiple\u001b[0;34m(self)\u001b[0m\n\u001b[1;32m    582\u001b[0m \u001b[38;5;28;01mdef\u001b[39;00m \u001b[38;5;21mapply_multiple\u001b[39m(\u001b[38;5;28mself\u001b[39m) \u001b[38;5;241m-\u001b[39m\u001b[38;5;241m>\u001b[39m DataFrame \u001b[38;5;241m|\u001b[39m Series:\n\u001b[1;32m    583\u001b[0m \u001b[38;5;250m    \u001b[39m\u001b[38;5;124;03m\"\"\"\u001b[39;00m\n\u001b[1;32m    584\u001b[0m \u001b[38;5;124;03m    Compute apply in case of a list-like or dict-like.\u001b[39;00m\n\u001b[1;32m    585\u001b[0m \n\u001b[0;32m   (...)\u001b[0m\n\u001b[1;32m    589\u001b[0m \u001b[38;5;124;03m        Result when self.f is a list-like or dict-like, None otherwise.\u001b[39;00m\n\u001b[1;32m    590\u001b[0m \u001b[38;5;124;03m    \"\"\"\u001b[39;00m\n\u001b[0;32m--> 591\u001b[0m     \u001b[38;5;28;01mreturn\u001b[39;00m \u001b[38;5;28mself\u001b[39m\u001b[38;5;241m.\u001b[39mobj\u001b[38;5;241m.\u001b[39maggregate(\u001b[38;5;28mself\u001b[39m\u001b[38;5;241m.\u001b[39mf, \u001b[38;5;28mself\u001b[39m\u001b[38;5;241m.\u001b[39maxis, \u001b[38;5;241m*\u001b[39m\u001b[38;5;28mself\u001b[39m\u001b[38;5;241m.\u001b[39margs, \u001b[38;5;241m*\u001b[39m\u001b[38;5;241m*\u001b[39m\u001b[38;5;28mself\u001b[39m\u001b[38;5;241m.\u001b[39mkwargs)\n",
      "File \u001b[0;32m~/anaconda3/lib/python3.11/site-packages/pandas/core/series.py:4605\u001b[0m, in \u001b[0;36mSeries.aggregate\u001b[0;34m(self, func, axis, *args, **kwargs)\u001b[0m\n\u001b[1;32m   4602\u001b[0m     func \u001b[38;5;241m=\u001b[39m \u001b[38;5;28mdict\u001b[39m(kwargs\u001b[38;5;241m.\u001b[39mitems())\n\u001b[1;32m   4604\u001b[0m op \u001b[38;5;241m=\u001b[39m SeriesApply(\u001b[38;5;28mself\u001b[39m, func, convert_dtype\u001b[38;5;241m=\u001b[39m\u001b[38;5;28;01mFalse\u001b[39;00m, args\u001b[38;5;241m=\u001b[39margs, kwargs\u001b[38;5;241m=\u001b[39mkwargs)\n\u001b[0;32m-> 4605\u001b[0m result \u001b[38;5;241m=\u001b[39m op\u001b[38;5;241m.\u001b[39magg()\n\u001b[1;32m   4606\u001b[0m \u001b[38;5;28;01mreturn\u001b[39;00m result\n",
      "File \u001b[0;32m~/anaconda3/lib/python3.11/site-packages/pandas/core/apply.py:1126\u001b[0m, in \u001b[0;36mSeriesApply.agg\u001b[0;34m(self)\u001b[0m\n\u001b[1;32m   1125\u001b[0m \u001b[38;5;28;01mdef\u001b[39;00m \u001b[38;5;21magg\u001b[39m(\u001b[38;5;28mself\u001b[39m):\n\u001b[0;32m-> 1126\u001b[0m     result \u001b[38;5;241m=\u001b[39m \u001b[38;5;28msuper\u001b[39m()\u001b[38;5;241m.\u001b[39magg()\n\u001b[1;32m   1127\u001b[0m     \u001b[38;5;28;01mif\u001b[39;00m result \u001b[38;5;129;01mis\u001b[39;00m \u001b[38;5;28;01mNone\u001b[39;00m:\n\u001b[1;32m   1128\u001b[0m         f \u001b[38;5;241m=\u001b[39m \u001b[38;5;28mself\u001b[39m\u001b[38;5;241m.\u001b[39mf\n",
      "File \u001b[0;32m~/anaconda3/lib/python3.11/site-packages/pandas/core/apply.py:172\u001b[0m, in \u001b[0;36mApply.agg\u001b[0;34m(self)\u001b[0m\n\u001b[1;32m    169\u001b[0m     \u001b[38;5;28;01mreturn\u001b[39;00m \u001b[38;5;28mself\u001b[39m\u001b[38;5;241m.\u001b[39mapply_str()\n\u001b[1;32m    171\u001b[0m \u001b[38;5;28;01mif\u001b[39;00m is_dict_like(arg):\n\u001b[0;32m--> 172\u001b[0m     \u001b[38;5;28;01mreturn\u001b[39;00m \u001b[38;5;28mself\u001b[39m\u001b[38;5;241m.\u001b[39magg_dict_like()\n\u001b[1;32m    173\u001b[0m \u001b[38;5;28;01melif\u001b[39;00m is_list_like(arg):\n\u001b[1;32m    174\u001b[0m     \u001b[38;5;66;03m# we require a list, but not a 'str'\u001b[39;00m\n\u001b[1;32m    175\u001b[0m     \u001b[38;5;28;01mreturn\u001b[39;00m \u001b[38;5;28mself\u001b[39m\u001b[38;5;241m.\u001b[39magg_list_like()\n",
      "File \u001b[0;32m~/anaconda3/lib/python3.11/site-packages/pandas/core/apply.py:501\u001b[0m, in \u001b[0;36mApply.agg_dict_like\u001b[0;34m(self)\u001b[0m\n\u001b[1;32m    498\u001b[0m \u001b[38;5;28;01mif\u001b[39;00m selected_obj\u001b[38;5;241m.\u001b[39mndim \u001b[38;5;241m==\u001b[39m \u001b[38;5;241m1\u001b[39m:\n\u001b[1;32m    499\u001b[0m     \u001b[38;5;66;03m# key only used for output\u001b[39;00m\n\u001b[1;32m    500\u001b[0m     colg \u001b[38;5;241m=\u001b[39m obj\u001b[38;5;241m.\u001b[39m_gotitem(selection, ndim\u001b[38;5;241m=\u001b[39m\u001b[38;5;241m1\u001b[39m)\n\u001b[0;32m--> 501\u001b[0m     results \u001b[38;5;241m=\u001b[39m {key: colg\u001b[38;5;241m.\u001b[39magg(how) \u001b[38;5;28;01mfor\u001b[39;00m key, how \u001b[38;5;129;01min\u001b[39;00m arg\u001b[38;5;241m.\u001b[39mitems()}\n\u001b[1;32m    502\u001b[0m \u001b[38;5;28;01melse\u001b[39;00m:\n\u001b[1;32m    503\u001b[0m     \u001b[38;5;66;03m# key used for column selection and output\u001b[39;00m\n\u001b[1;32m    504\u001b[0m     results \u001b[38;5;241m=\u001b[39m {\n\u001b[1;32m    505\u001b[0m         key: obj\u001b[38;5;241m.\u001b[39m_gotitem(key, ndim\u001b[38;5;241m=\u001b[39m\u001b[38;5;241m1\u001b[39m)\u001b[38;5;241m.\u001b[39magg(how) \u001b[38;5;28;01mfor\u001b[39;00m key, how \u001b[38;5;129;01min\u001b[39;00m arg\u001b[38;5;241m.\u001b[39mitems()\n\u001b[1;32m    506\u001b[0m     }\n",
      "File \u001b[0;32m~/anaconda3/lib/python3.11/site-packages/pandas/core/apply.py:501\u001b[0m, in \u001b[0;36m<dictcomp>\u001b[0;34m(.0)\u001b[0m\n\u001b[1;32m    498\u001b[0m \u001b[38;5;28;01mif\u001b[39;00m selected_obj\u001b[38;5;241m.\u001b[39mndim \u001b[38;5;241m==\u001b[39m \u001b[38;5;241m1\u001b[39m:\n\u001b[1;32m    499\u001b[0m     \u001b[38;5;66;03m# key only used for output\u001b[39;00m\n\u001b[1;32m    500\u001b[0m     colg \u001b[38;5;241m=\u001b[39m obj\u001b[38;5;241m.\u001b[39m_gotitem(selection, ndim\u001b[38;5;241m=\u001b[39m\u001b[38;5;241m1\u001b[39m)\n\u001b[0;32m--> 501\u001b[0m     results \u001b[38;5;241m=\u001b[39m {key: colg\u001b[38;5;241m.\u001b[39magg(how) \u001b[38;5;28;01mfor\u001b[39;00m key, how \u001b[38;5;129;01min\u001b[39;00m arg\u001b[38;5;241m.\u001b[39mitems()}\n\u001b[1;32m    502\u001b[0m \u001b[38;5;28;01melse\u001b[39;00m:\n\u001b[1;32m    503\u001b[0m     \u001b[38;5;66;03m# key used for column selection and output\u001b[39;00m\n\u001b[1;32m    504\u001b[0m     results \u001b[38;5;241m=\u001b[39m {\n\u001b[1;32m    505\u001b[0m         key: obj\u001b[38;5;241m.\u001b[39m_gotitem(key, ndim\u001b[38;5;241m=\u001b[39m\u001b[38;5;241m1\u001b[39m)\u001b[38;5;241m.\u001b[39magg(how) \u001b[38;5;28;01mfor\u001b[39;00m key, how \u001b[38;5;129;01min\u001b[39;00m arg\u001b[38;5;241m.\u001b[39mitems()\n\u001b[1;32m    506\u001b[0m     }\n",
      "File \u001b[0;32m~/anaconda3/lib/python3.11/site-packages/pandas/core/series.py:4605\u001b[0m, in \u001b[0;36mSeries.aggregate\u001b[0;34m(self, func, axis, *args, **kwargs)\u001b[0m\n\u001b[1;32m   4602\u001b[0m     func \u001b[38;5;241m=\u001b[39m \u001b[38;5;28mdict\u001b[39m(kwargs\u001b[38;5;241m.\u001b[39mitems())\n\u001b[1;32m   4604\u001b[0m op \u001b[38;5;241m=\u001b[39m SeriesApply(\u001b[38;5;28mself\u001b[39m, func, convert_dtype\u001b[38;5;241m=\u001b[39m\u001b[38;5;28;01mFalse\u001b[39;00m, args\u001b[38;5;241m=\u001b[39margs, kwargs\u001b[38;5;241m=\u001b[39mkwargs)\n\u001b[0;32m-> 4605\u001b[0m result \u001b[38;5;241m=\u001b[39m op\u001b[38;5;241m.\u001b[39magg()\n\u001b[1;32m   4606\u001b[0m \u001b[38;5;28;01mreturn\u001b[39;00m result\n",
      "File \u001b[0;32m~/anaconda3/lib/python3.11/site-packages/pandas/core/apply.py:1126\u001b[0m, in \u001b[0;36mSeriesApply.agg\u001b[0;34m(self)\u001b[0m\n\u001b[1;32m   1125\u001b[0m \u001b[38;5;28;01mdef\u001b[39;00m \u001b[38;5;21magg\u001b[39m(\u001b[38;5;28mself\u001b[39m):\n\u001b[0;32m-> 1126\u001b[0m     result \u001b[38;5;241m=\u001b[39m \u001b[38;5;28msuper\u001b[39m()\u001b[38;5;241m.\u001b[39magg()\n\u001b[1;32m   1127\u001b[0m     \u001b[38;5;28;01mif\u001b[39;00m result \u001b[38;5;129;01mis\u001b[39;00m \u001b[38;5;28;01mNone\u001b[39;00m:\n\u001b[1;32m   1128\u001b[0m         f \u001b[38;5;241m=\u001b[39m \u001b[38;5;28mself\u001b[39m\u001b[38;5;241m.\u001b[39mf\n",
      "File \u001b[0;32m~/anaconda3/lib/python3.11/site-packages/pandas/core/apply.py:169\u001b[0m, in \u001b[0;36mApply.agg\u001b[0;34m(self)\u001b[0m\n\u001b[1;32m    166\u001b[0m kwargs \u001b[38;5;241m=\u001b[39m \u001b[38;5;28mself\u001b[39m\u001b[38;5;241m.\u001b[39mkwargs\n\u001b[1;32m    168\u001b[0m \u001b[38;5;28;01mif\u001b[39;00m \u001b[38;5;28misinstance\u001b[39m(arg, \u001b[38;5;28mstr\u001b[39m):\n\u001b[0;32m--> 169\u001b[0m     \u001b[38;5;28;01mreturn\u001b[39;00m \u001b[38;5;28mself\u001b[39m\u001b[38;5;241m.\u001b[39mapply_str()\n\u001b[1;32m    171\u001b[0m \u001b[38;5;28;01mif\u001b[39;00m is_dict_like(arg):\n\u001b[1;32m    172\u001b[0m     \u001b[38;5;28;01mreturn\u001b[39;00m \u001b[38;5;28mself\u001b[39m\u001b[38;5;241m.\u001b[39magg_dict_like()\n",
      "File \u001b[0;32m~/anaconda3/lib/python3.11/site-packages/pandas/core/apply.py:580\u001b[0m, in \u001b[0;36mApply.apply_str\u001b[0;34m(self)\u001b[0m\n\u001b[1;32m    578\u001b[0m     \u001b[38;5;28;01melif\u001b[39;00m \u001b[38;5;28mself\u001b[39m\u001b[38;5;241m.\u001b[39maxis \u001b[38;5;241m!=\u001b[39m \u001b[38;5;241m0\u001b[39m:\n\u001b[1;32m    579\u001b[0m         \u001b[38;5;28;01mraise\u001b[39;00m \u001b[38;5;167;01mValueError\u001b[39;00m(\u001b[38;5;124mf\u001b[39m\u001b[38;5;124m\"\u001b[39m\u001b[38;5;124mOperation \u001b[39m\u001b[38;5;132;01m{\u001b[39;00mf\u001b[38;5;132;01m}\u001b[39;00m\u001b[38;5;124m does not support axis=1\u001b[39m\u001b[38;5;124m\"\u001b[39m)\n\u001b[0;32m--> 580\u001b[0m \u001b[38;5;28;01mreturn\u001b[39;00m \u001b[38;5;28mself\u001b[39m\u001b[38;5;241m.\u001b[39m_try_aggregate_string_function(obj, f, \u001b[38;5;241m*\u001b[39m\u001b[38;5;28mself\u001b[39m\u001b[38;5;241m.\u001b[39margs, \u001b[38;5;241m*\u001b[39m\u001b[38;5;241m*\u001b[39m\u001b[38;5;28mself\u001b[39m\u001b[38;5;241m.\u001b[39mkwargs)\n",
      "File \u001b[0;32m~/anaconda3/lib/python3.11/site-packages/pandas/core/apply.py:662\u001b[0m, in \u001b[0;36mApply._try_aggregate_string_function\u001b[0;34m(self, obj, arg, *args, **kwargs)\u001b[0m\n\u001b[1;32m    658\u001b[0m \u001b[38;5;28;01mif\u001b[39;00m f \u001b[38;5;129;01mis\u001b[39;00m \u001b[38;5;129;01mnot\u001b[39;00m \u001b[38;5;28;01mNone\u001b[39;00m \u001b[38;5;129;01mand\u001b[39;00m \u001b[38;5;28mhasattr\u001b[39m(obj, \u001b[38;5;124m\"\u001b[39m\u001b[38;5;124m__array__\u001b[39m\u001b[38;5;124m\"\u001b[39m):\n\u001b[1;32m    659\u001b[0m     \u001b[38;5;66;03m# in particular exclude Window\u001b[39;00m\n\u001b[1;32m    660\u001b[0m     \u001b[38;5;28;01mreturn\u001b[39;00m f(obj, \u001b[38;5;241m*\u001b[39margs, \u001b[38;5;241m*\u001b[39m\u001b[38;5;241m*\u001b[39mkwargs)\n\u001b[0;32m--> 662\u001b[0m \u001b[38;5;28;01mraise\u001b[39;00m \u001b[38;5;167;01mAttributeError\u001b[39;00m(\n\u001b[1;32m    663\u001b[0m     \u001b[38;5;124mf\u001b[39m\u001b[38;5;124m\"\u001b[39m\u001b[38;5;124m'\u001b[39m\u001b[38;5;132;01m{\u001b[39;00marg\u001b[38;5;132;01m}\u001b[39;00m\u001b[38;5;124m'\u001b[39m\u001b[38;5;124m is not a valid function for \u001b[39m\u001b[38;5;124m'\u001b[39m\u001b[38;5;132;01m{\u001b[39;00m\u001b[38;5;28mtype\u001b[39m(obj)\u001b[38;5;241m.\u001b[39m\u001b[38;5;18m__name__\u001b[39m\u001b[38;5;132;01m}\u001b[39;00m\u001b[38;5;124m'\u001b[39m\u001b[38;5;124m object\u001b[39m\u001b[38;5;124m\"\u001b[39m\n\u001b[1;32m    664\u001b[0m )\n",
      "\u001b[0;31mAttributeError\u001b[0m: 'Norway' is not a valid function for 'Series' object"
     ]
    }
   ],
   "source": [
    "mask = (df['latitude'] > 35) & (df['longitude'] > 0)\n",
    "\n",
    "# Apply the mask to the DataFrame\n",
    "filtered_df = df[mask]\n",
    "\n",
    "# Display the filtered DataFrame\n",
    "print(filtered_df)"
   ]
  },
  {
   "cell_type": "code",
   "execution_count": null,
   "id": "031588cb",
   "metadata": {},
   "outputs": [],
   "source": []
  }
 ],
 "metadata": {
  "kernelspec": {
   "display_name": "Python 3 (ipykernel)",
   "language": "python",
   "name": "python3"
  },
  "language_info": {
   "codemirror_mode": {
    "name": "ipython",
    "version": 3
   },
   "file_extension": ".py",
   "mimetype": "text/x-python",
   "name": "python",
   "nbconvert_exporter": "python",
   "pygments_lexer": "ipython3",
   "version": "3.11.4"
  }
 },
 "nbformat": 4,
 "nbformat_minor": 5
}
