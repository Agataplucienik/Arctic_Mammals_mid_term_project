{
 "cells": [
  {
   "cell_type": "markdown",
   "id": "fb71a1c9",
   "metadata": {},
   "source": [
    "## First import the dataset of the marine mammal distrubutions"
   ]
  },
  {
   "cell_type": "code",
   "execution_count": 1,
   "id": "5a1ede70",
   "metadata": {},
   "outputs": [
    {
     "data": {
      "text/html": [
       "<div>\n",
       "<style scoped>\n",
       "    .dataframe tbody tr th:only-of-type {\n",
       "        vertical-align: middle;\n",
       "    }\n",
       "\n",
       "    .dataframe tbody tr th {\n",
       "        vertical-align: top;\n",
       "    }\n",
       "\n",
       "    .dataframe thead th {\n",
       "        text-align: right;\n",
       "    }\n",
       "</style>\n",
       "<table border=\"1\" class=\"dataframe\">\n",
       "  <thead>\n",
       "    <tr style=\"text-align: right;\">\n",
       "      <th></th>\n",
       "      <th>Date</th>\n",
       "      <th>Latitude</th>\n",
       "      <th>Longitude</th>\n",
       "      <th>Location</th>\n",
       "      <th>Species</th>\n",
       "      <th>Adult M</th>\n",
       "      <th>Adult F</th>\n",
       "      <th>Adult</th>\n",
       "      <th>Subadult</th>\n",
       "      <th>Polar bear condition</th>\n",
       "      <th>Polar bear den</th>\n",
       "      <th>Cub/calf/pup</th>\n",
       "      <th>Bear cubs</th>\n",
       "      <th>Dead/alive</th>\n",
       "      <th>Unidentified</th>\n",
       "      <th>Total</th>\n",
       "      <th>Habitat</th>\n",
       "      <th>Occurrence remark</th>\n",
       "    </tr>\n",
       "  </thead>\n",
       "  <tbody>\n",
       "    <tr>\n",
       "      <th>0</th>\n",
       "      <td>2000-07-29</td>\n",
       "      <td>78.55</td>\n",
       "      <td>25.416667</td>\n",
       "      <td>Unknown</td>\n",
       "      <td>balaena mysticetus</td>\n",
       "      <td></td>\n",
       "      <td></td>\n",
       "      <td></td>\n",
       "      <td></td>\n",
       "      <td></td>\n",
       "      <td></td>\n",
       "      <td></td>\n",
       "      <td></td>\n",
       "      <td></td>\n",
       "      <td></td>\n",
       "      <td>1</td>\n",
       "      <td>water</td>\n",
       "      <td>V. Large individual possibly a F</td>\n",
       "    </tr>\n",
       "    <tr>\n",
       "      <th>1</th>\n",
       "      <td>2000-08-08</td>\n",
       "      <td>79.1166666666667</td>\n",
       "      <td>21.441667</td>\n",
       "      <td>Unknown</td>\n",
       "      <td>balaena mysticetus</td>\n",
       "      <td></td>\n",
       "      <td></td>\n",
       "      <td></td>\n",
       "      <td></td>\n",
       "      <td></td>\n",
       "      <td></td>\n",
       "      <td></td>\n",
       "      <td></td>\n",
       "      <td></td>\n",
       "      <td></td>\n",
       "      <td>1</td>\n",
       "      <td>water</td>\n",
       "      <td></td>\n",
       "    </tr>\n",
       "    <tr>\n",
       "      <th>2</th>\n",
       "      <td>2000-08-16</td>\n",
       "      <td>78.917</td>\n",
       "      <td>24.050000</td>\n",
       "      <td>Unknown</td>\n",
       "      <td>balaena mysticetus</td>\n",
       "      <td></td>\n",
       "      <td></td>\n",
       "      <td></td>\n",
       "      <td></td>\n",
       "      <td></td>\n",
       "      <td></td>\n",
       "      <td></td>\n",
       "      <td></td>\n",
       "      <td></td>\n",
       "      <td></td>\n",
       "      <td>1</td>\n",
       "      <td>water</td>\n",
       "      <td></td>\n",
       "    </tr>\n",
       "    <tr>\n",
       "      <th>3</th>\n",
       "      <td>2001-08-08</td>\n",
       "      <td>79.268</td>\n",
       "      <td>20.858000</td>\n",
       "      <td>Unknown</td>\n",
       "      <td>balaena mysticetus</td>\n",
       "      <td></td>\n",
       "      <td></td>\n",
       "      <td></td>\n",
       "      <td></td>\n",
       "      <td></td>\n",
       "      <td></td>\n",
       "      <td></td>\n",
       "      <td></td>\n",
       "      <td></td>\n",
       "      <td></td>\n",
       "      <td>1</td>\n",
       "      <td>water</td>\n",
       "      <td></td>\n",
       "    </tr>\n",
       "    <tr>\n",
       "      <th>4</th>\n",
       "      <td>2005-08-06</td>\n",
       "      <td>78.932</td>\n",
       "      <td>11.922000</td>\n",
       "      <td>Nye Ålesund</td>\n",
       "      <td>balaena mysticetus</td>\n",
       "      <td></td>\n",
       "      <td></td>\n",
       "      <td></td>\n",
       "      <td></td>\n",
       "      <td></td>\n",
       "      <td></td>\n",
       "      <td></td>\n",
       "      <td></td>\n",
       "      <td></td>\n",
       "      <td></td>\n",
       "      <td>1</td>\n",
       "      <td>water</td>\n",
       "      <td></td>\n",
       "    </tr>\n",
       "    <tr>\n",
       "      <th>...</th>\n",
       "      <td>...</td>\n",
       "      <td>...</td>\n",
       "      <td>...</td>\n",
       "      <td>...</td>\n",
       "      <td>...</td>\n",
       "      <td>...</td>\n",
       "      <td>...</td>\n",
       "      <td>...</td>\n",
       "      <td>...</td>\n",
       "      <td>...</td>\n",
       "      <td>...</td>\n",
       "      <td>...</td>\n",
       "      <td>...</td>\n",
       "      <td>...</td>\n",
       "      <td>...</td>\n",
       "      <td>...</td>\n",
       "      <td>...</td>\n",
       "      <td>...</td>\n",
       "    </tr>\n",
       "    <tr>\n",
       "      <th>17370</th>\n",
       "      <td>2006-07-25</td>\n",
       "      <td>80.703</td>\n",
       "      <td>20.883000</td>\n",
       "      <td>Phippsøya</td>\n",
       "      <td>ursus maritimus</td>\n",
       "      <td></td>\n",
       "      <td></td>\n",
       "      <td></td>\n",
       "      <td></td>\n",
       "      <td></td>\n",
       "      <td></td>\n",
       "      <td></td>\n",
       "      <td></td>\n",
       "      <td></td>\n",
       "      <td></td>\n",
       "      <td>19</td>\n",
       "      <td>land</td>\n",
       "      <td>Feeding on whale carcass</td>\n",
       "    </tr>\n",
       "    <tr>\n",
       "      <th>17371</th>\n",
       "      <td>2010-09-21</td>\n",
       "      <td>80.1107</td>\n",
       "      <td>28.079700</td>\n",
       "      <td>Storøya</td>\n",
       "      <td>ursus maritimus</td>\n",
       "      <td></td>\n",
       "      <td>5</td>\n",
       "      <td></td>\n",
       "      <td></td>\n",
       "      <td></td>\n",
       "      <td></td>\n",
       "      <td>7</td>\n",
       "      <td></td>\n",
       "      <td></td>\n",
       "      <td></td>\n",
       "      <td>20</td>\n",
       "      <td>unknown</td>\n",
       "      <td>Two females with yearlings, two females with ...</td>\n",
       "    </tr>\n",
       "    <tr>\n",
       "      <th>17372</th>\n",
       "      <td>2012-07-11</td>\n",
       "      <td>79.01</td>\n",
       "      <td>20.500000</td>\n",
       "      <td>Hochstetterbreen</td>\n",
       "      <td>ursus maritimus</td>\n",
       "      <td></td>\n",
       "      <td>2</td>\n",
       "      <td></td>\n",
       "      <td></td>\n",
       "      <td></td>\n",
       "      <td></td>\n",
       "      <td>3</td>\n",
       "      <td></td>\n",
       "      <td></td>\n",
       "      <td></td>\n",
       "      <td>22</td>\n",
       "      <td>ice</td>\n",
       "      <td></td>\n",
       "    </tr>\n",
       "    <tr>\n",
       "      <th>17373</th>\n",
       "      <td>2015-08-28</td>\n",
       "      <td>78.9354</td>\n",
       "      <td>28.635900</td>\n",
       "      <td>Kongsøya</td>\n",
       "      <td>ursus maritimus</td>\n",
       "      <td>0</td>\n",
       "      <td>5</td>\n",
       "      <td>18</td>\n",
       "      <td>7</td>\n",
       "      <td>0</td>\n",
       "      <td></td>\n",
       "      <td>0</td>\n",
       "      <td>0</td>\n",
       "      <td></td>\n",
       "      <td>0</td>\n",
       "      <td>30</td>\n",
       "      <td>land</td>\n",
       "      <td>Hele øya</td>\n",
       "    </tr>\n",
       "    <tr>\n",
       "      <th>17374</th>\n",
       "      <td>2004-09-01</td>\n",
       "      <td>79.869</td>\n",
       "      <td>27.179000</td>\n",
       "      <td>Italianeset</td>\n",
       "      <td>ursus maritimus</td>\n",
       "      <td></td>\n",
       "      <td></td>\n",
       "      <td>31</td>\n",
       "      <td></td>\n",
       "      <td></td>\n",
       "      <td></td>\n",
       "      <td>1</td>\n",
       "      <td></td>\n",
       "      <td></td>\n",
       "      <td></td>\n",
       "      <td>32</td>\n",
       "      <td>land</td>\n",
       "      <td>spread around island</td>\n",
       "    </tr>\n",
       "  </tbody>\n",
       "</table>\n",
       "<p>17375 rows × 18 columns</p>\n",
       "</div>"
      ],
      "text/plain": [
       "              Date          Latitude    Longitude            Location   \\\n",
       "0       2000-07-29              78.55    25.416667             Unknown   \n",
       "1       2000-08-08   79.1166666666667    21.441667             Unknown   \n",
       "2       2000-08-16             78.917    24.050000             Unknown   \n",
       "3       2001-08-08             79.268    20.858000             Unknown   \n",
       "4       2005-08-06             78.932    11.922000        Nye Ålesund    \n",
       "...             ...               ...          ...                 ...   \n",
       "17370   2006-07-25             80.703    20.883000          Phippsøya    \n",
       "17371   2010-09-21            80.1107    28.079700            Storøya    \n",
       "17372   2012-07-11              79.01    20.500000   Hochstetterbreen    \n",
       "17373   2015-08-28            78.9354    28.635900           Kongsøya    \n",
       "17374   2004-09-01             79.869    27.179000        Italianeset    \n",
       "\n",
       "                   Species   Adult M   Adult F   Adult   Subadult   \\\n",
       "0       balaena mysticetus                                           \n",
       "1       balaena mysticetus                                           \n",
       "2       balaena mysticetus                                           \n",
       "3       balaena mysticetus                                           \n",
       "4       balaena mysticetus                                           \n",
       "...                     ...       ...       ...     ...        ...   \n",
       "17370      ursus maritimus                                           \n",
       "17371      ursus maritimus                    5                      \n",
       "17372      ursus maritimus                    2                      \n",
       "17373      ursus maritimus          0         5      18          7   \n",
       "17374      ursus maritimus                           31              \n",
       "\n",
       "       Polar bear condition   Polar bear den   Cub/calf/pup   Bear cubs   \\\n",
       "0                                                                          \n",
       "1                                                                          \n",
       "2                                                                          \n",
       "3                                                                          \n",
       "4                                                                          \n",
       "...                      ...              ...            ...         ...   \n",
       "17370                                                                      \n",
       "17371                                                      7               \n",
       "17372                                                      3               \n",
       "17373                      0                               0           0   \n",
       "17374                                                      1               \n",
       "\n",
       "       Dead/alive   Unidentified   Total    Habitat   \\\n",
       "0                                       1     water    \n",
       "1                                       1     water    \n",
       "2                                       1     water    \n",
       "3                                       1     water    \n",
       "4                                       1     water    \n",
       "...            ...            ...     ...        ...   \n",
       "17370                                  19      land    \n",
       "17371                                  20   unknown    \n",
       "17372                                  22       ice    \n",
       "17373                           0      30      land    \n",
       "17374                                  32      land    \n",
       "\n",
       "                                      Occurrence remark   \n",
       "0                      V. Large individual possibly a F   \n",
       "1                                                         \n",
       "2                                                         \n",
       "3                                                         \n",
       "4                                                         \n",
       "...                                                  ...  \n",
       "17370                          Feeding on whale carcass   \n",
       "17371   Two females with yearlings, two females with ...  \n",
       "17372                                                     \n",
       "17373                                          Hele øya   \n",
       "17374                              spread around island   \n",
       "\n",
       "[17375 rows x 18 columns]"
      ]
     },
     "execution_count": 1,
     "metadata": {},
     "output_type": "execute_result"
    }
   ],
   "source": [
    "import pandas as pd\n",
    "import seaborn as sns\n",
    "import numpy as np \n",
    "url = 'https://raw.githubusercontent.com/yveness7/Marine_Mammals_vs_Climate_Change_mid_term_project/main/mammals%20data/editMMSDB_observations_1995-2016.xlsx_0%20(copy).csv'\n",
    "df = pd.read_csv(url)\n",
    "df"
   ]
  },
  {
   "cell_type": "markdown",
   "id": "a57414bc",
   "metadata": {},
   "source": [
    "## View the columns"
   ]
  },
  {
   "cell_type": "code",
   "execution_count": 2,
   "id": "bd66f16e",
   "metadata": {},
   "outputs": [
    {
     "data": {
      "text/plain": [
       "Index([' Date ', ' Latitude ', ' Longitude ', ' Location ', ' Species ',\n",
       "       ' Adult M ', ' Adult F ', ' Adult ', ' Subadult ',\n",
       "       ' Polar bear condition ', ' Polar bear den ', ' Cub/calf/pup ',\n",
       "       ' Bear cubs ', ' Dead/alive ', ' Unidentified ', ' Total ', ' Habitat ',\n",
       "       ' Occurrence remark '],\n",
       "      dtype='object')"
      ]
     },
     "execution_count": 2,
     "metadata": {},
     "output_type": "execute_result"
    }
   ],
   "source": [
    "df.columns"
   ]
  },
  {
   "cell_type": "markdown",
   "id": "952e1beb",
   "metadata": {},
   "source": [
    "## Get spaces out of the column names "
   ]
  },
  {
   "cell_type": "code",
   "execution_count": 3,
   "id": "2721693a",
   "metadata": {},
   "outputs": [
    {
     "data": {
      "text/plain": [
       "Index(['Date', 'Latitude', 'Longitude', 'Location', 'Species', 'Adult M',\n",
       "       'Adult F', 'Adult', 'Subadult', 'Polar bear condition',\n",
       "       'Polar bear den', 'Cub/calf/pup', 'Bear cubs', 'Dead/alive',\n",
       "       'Unidentified', 'Total', 'Habitat', 'Occurrence remark'],\n",
       "      dtype='object')"
      ]
     },
     "execution_count": 3,
     "metadata": {},
     "output_type": "execute_result"
    }
   ],
   "source": [
    "\n",
    "df.rename(columns=lambda x: x.strip(), inplace=True)\n",
    "df.columns"
   ]
  },
  {
   "cell_type": "markdown",
   "id": "f782341d",
   "metadata": {},
   "source": [
    "## Change names to lower case "
   ]
  },
  {
   "cell_type": "code",
   "execution_count": 4,
   "id": "51667332",
   "metadata": {},
   "outputs": [
    {
     "data": {
      "text/plain": [
       "Index(['date', 'latitude', 'longitude', 'location', 'species', 'adult m',\n",
       "       'adult f', 'adult', 'subadult', 'polar bear condition',\n",
       "       'polar bear den', 'cub/calf/pup', 'bear cubs', 'dead/alive',\n",
       "       'unidentified', 'total', 'habitat', 'occurrence remark'],\n",
       "      dtype='object')"
      ]
     },
     "execution_count": 4,
     "metadata": {},
     "output_type": "execute_result"
    }
   ],
   "source": [
    "df.rename(columns=lambda x: x.lower(), inplace=True)\n",
    "df.columns"
   ]
  },
  {
   "cell_type": "markdown",
   "id": "e4121133",
   "metadata": {},
   "source": [
    "## View the column 'species'"
   ]
  },
  {
   "cell_type": "code",
   "execution_count": 5,
   "id": "eda05ba2",
   "metadata": {},
   "outputs": [
    {
     "data": {
      "text/plain": [
       "array([' balaena mysticetus ', ' balaenoptera acutorostrata ',\n",
       "       ' balaenoptera borealis ', ' balaenoptera musculus ',\n",
       "       ' balaenoptera physalus ', ' cystophora cristata ',\n",
       "       ' delphinapterus leucas ', ' erignathus barbatus ',\n",
       "       ' globicephala melas ', ' hyperoodon ampullatus ',\n",
       "       ' lagenorhynchus albirostris ', ' megaptera novaeangliae ',\n",
       "       ' monodon monoceros ', ' odobenus rosmarus ', ' orcinus orca ',\n",
       "       ' phoca groenlandica ', ' phoca vitulina ',\n",
       "       ' physeter macrocephalus ', ' pusa hispida ', ' ursus maritimus '],\n",
       "      dtype=object)"
      ]
     },
     "execution_count": 5,
     "metadata": {},
     "output_type": "execute_result"
    }
   ],
   "source": [
    "df.species.unique()"
   ]
  },
  {
   "cell_type": "markdown",
   "id": "8f588edc",
   "metadata": {},
   "source": [
    "## Remove the spaces before and after the scientific names"
   ]
  },
  {
   "cell_type": "code",
   "execution_count": 6,
   "id": "4c4e1d7f",
   "metadata": {},
   "outputs": [
    {
     "data": {
      "text/plain": [
       "array(['balaena mysticetus', 'balaenoptera acutorostrata',\n",
       "       'balaenoptera borealis', 'balaenoptera musculus',\n",
       "       'balaenoptera physalus', 'cystophora cristata',\n",
       "       'delphinapterus leucas', 'erignathus barbatus',\n",
       "       'globicephala melas', 'hyperoodon ampullatus',\n",
       "       'lagenorhynchus albirostris', 'megaptera novaeangliae',\n",
       "       'monodon monoceros', 'odobenus rosmarus', 'orcinus orca',\n",
       "       'phoca groenlandica', 'phoca vitulina', 'physeter macrocephalus',\n",
       "       'pusa hispida', 'ursus maritimus'], dtype=object)"
      ]
     },
     "execution_count": 6,
     "metadata": {},
     "output_type": "execute_result"
    }
   ],
   "source": [
    "df['species'] = df['species'].str.strip()\n",
    "df.species.unique()"
   ]
  },
  {
   "cell_type": "markdown",
   "id": "792eb7cc",
   "metadata": {},
   "source": [
    "## View how many we got from each species "
   ]
  },
  {
   "cell_type": "code",
   "execution_count": 7,
   "id": "c1247432",
   "metadata": {},
   "outputs": [
    {
     "data": {
      "text/plain": [
       "ursus maritimus               3558\n",
       "odobenus rosmarus             2497\n",
       "balaenoptera acutorostrata    2233\n",
       "balaenoptera physalus         1632\n",
       "erignathus barbatus           1386\n",
       "megaptera novaeangliae        1088\n",
       "phoca groenlandica            1073\n",
       "lagenorhynchus albirostris    1014\n",
       "pusa hispida                   885\n",
       "phoca vitulina                 437\n",
       "cystophora cristata            407\n",
       "delphinapterus leucas          386\n",
       "balaenoptera musculus          332\n",
       "physeter macrocephalus         160\n",
       "balaena mysticetus              85\n",
       "orcinus orca                    66\n",
       "hyperoodon ampullatus           49\n",
       "monodon monoceros               40\n",
       "balaenoptera borealis           35\n",
       "globicephala melas              12\n",
       "Name: species, dtype: int64"
      ]
     },
     "execution_count": 7,
     "metadata": {},
     "output_type": "execute_result"
    }
   ],
   "source": [
    "df['species'].value_counts() "
   ]
  },
  {
   "cell_type": "markdown",
   "id": "85fdead8",
   "metadata": {},
   "source": [
    "## Rename the species to their common names "
   ]
  },
  {
   "cell_type": "code",
   "execution_count": 8,
   "id": "f0da10b3",
   "metadata": {},
   "outputs": [],
   "source": [
    "df['species'] = df['species'].replace({'ursus maritimus': 'polar bear',\n",
    "                                       'odobenus rosmarus':'walrus',\n",
    "                                      'balaenoptera acutorostrata': 'common minkie whale',\n",
    "                                       'balaenoptera physalus':'fin whale',\n",
    "                                       'erignathus barbatus':'bearded seal',\n",
    "                                       'megaptera novaeangliae':'humpback whale',\n",
    "                                       'phoca groenlandica':'harp seal',\n",
    "                                       'lagenorhynchus albirostris':'white beaked dolphin',\n",
    "                                       'pusa hispida':'ringed seal',\n",
    "                                       'phoca vitulina':'harbor seal',\n",
    "                                       'cystophora cristata':'hooded seal',\n",
    "                                       'delphinapterus leucas':'beluga whale',\n",
    "                                       'balaenoptera musculus':'blue whale',\n",
    "                                       'physeter macrocephalus':'sperm whale',\n",
    "                                       'balaena mysticetus':'bowhead whale',\n",
    "                                       'orcinus orca':'orca',\n",
    "                                        'hyperoodon ampullatus':'northern bottlenose whale',\n",
    "                                       'monodon monoceros':'narwhal',\n",
    "                                       'balaenoptera borealis':'sei whale',\n",
    "                                       'globicephala melas':'long-finned pilot whale' })\n",
    "\n"
   ]
  },
  {
   "cell_type": "markdown",
   "id": "f33b39b9",
   "metadata": {},
   "source": [
    "## View the common names to check if everything is alright"
   ]
  },
  {
   "cell_type": "code",
   "execution_count": 9,
   "id": "b1cc3b68",
   "metadata": {},
   "outputs": [
    {
     "data": {
      "text/plain": [
       "array(['bowhead whale', 'common minkie whale', 'sei whale', 'blue whale',\n",
       "       'fin whale', 'hooded seal', 'beluga whale', 'bearded seal',\n",
       "       'long-finned pilot whale', 'northern bottlenose whale',\n",
       "       'white beaked dolphin', 'humpback whale', 'narwhal', 'walrus',\n",
       "       'orca', 'harp seal', 'harbor seal', 'sperm whale', 'ringed seal',\n",
       "       'polar bear'], dtype=object)"
      ]
     },
     "execution_count": 9,
     "metadata": {},
     "output_type": "execute_result"
    }
   ],
   "source": [
    "df.species.unique()"
   ]
  },
  {
   "cell_type": "code",
   "execution_count": 10,
   "id": "adadd1cd",
   "metadata": {},
   "outputs": [
    {
     "data": {
      "text/plain": [
       "polar bear                   3558\n",
       "walrus                       2497\n",
       "common minkie whale          2233\n",
       "fin whale                    1632\n",
       "bearded seal                 1386\n",
       "humpback whale               1088\n",
       "harp seal                    1073\n",
       "white beaked dolphin         1014\n",
       "ringed seal                   885\n",
       "harbor seal                   437\n",
       "hooded seal                   407\n",
       "beluga whale                  386\n",
       "blue whale                    332\n",
       "sperm whale                   160\n",
       "bowhead whale                  85\n",
       "orca                           66\n",
       "northern bottlenose whale      49\n",
       "narwhal                        40\n",
       "sei whale                      35\n",
       "long-finned pilot whale        12\n",
       "Name: species, dtype: int64"
      ]
     },
     "execution_count": 10,
     "metadata": {},
     "output_type": "execute_result"
    }
   ],
   "source": [
    "df['species'].value_counts()"
   ]
  },
  {
   "cell_type": "markdown",
   "id": "630470d6",
   "metadata": {},
   "source": [
    "## View locations"
   ]
  },
  {
   "cell_type": "code",
   "execution_count": 11,
   "id": "5e974dec",
   "metadata": {},
   "outputs": [
    {
     "data": {
      "text/plain": [
       "array(['Unknown', ' Nye Ålesund ', ' Fram Strait ', ...,\n",
       "       ' Freemandsundut ', ' Kapp Hammerfest ', ' Italianeset '],\n",
       "      dtype=object)"
      ]
     },
     "execution_count": 11,
     "metadata": {},
     "output_type": "execute_result"
    }
   ],
   "source": [
    "df.location.unique() "
   ]
  },
  {
   "cell_type": "markdown",
   "id": "f9286e2a",
   "metadata": {},
   "source": [
    "## Replace empty spaces in the names"
   ]
  },
  {
   "cell_type": "code",
   "execution_count": 12,
   "id": "fe8f661c",
   "metadata": {},
   "outputs": [
    {
     "data": {
      "text/plain": [
       "array(['Unknown', 'Nye Ålesund', 'Fram Strait', ..., 'Freemandsundut',\n",
       "       'Kapp Hammerfest', 'Italianeset'], dtype=object)"
      ]
     },
     "execution_count": 12,
     "metadata": {},
     "output_type": "execute_result"
    }
   ],
   "source": [
    "df['location'] = df['location'].str.strip()\n",
    "df.location.unique()"
   ]
  },
  {
   "cell_type": "code",
   "execution_count": 13,
   "id": "c78c6e9c",
   "metadata": {},
   "outputs": [
    {
     "data": {
      "text/plain": [
       "Unknown           7544\n",
       "Poolepynten        189\n",
       "Moffen             184\n",
       "ditto              156\n",
       "Liefdefjorden      141\n",
       "                  ... \n",
       "Pyramiden            1\n",
       "79.27N-019.52E       1\n",
       "8038N 0172E          1\n",
       "7857N 01152E         1\n",
       "Italianeset          1\n",
       "Name: location, Length: 2608, dtype: int64"
      ]
     },
     "execution_count": 13,
     "metadata": {},
     "output_type": "execute_result"
    }
   ],
   "source": [
    "df.location.value_counts()"
   ]
  },
  {
   "cell_type": "markdown",
   "id": "093fd79f",
   "metadata": {},
   "source": [
    "## Check unique locations"
   ]
  },
  {
   "cell_type": "code",
   "execution_count": 14,
   "id": "f5882896",
   "metadata": {},
   "outputs": [
    {
     "data": {
      "text/plain": [
       "2608"
      ]
     },
     "execution_count": 14,
     "metadata": {},
     "output_type": "execute_result"
    }
   ],
   "source": [
    "df.location.nunique() #2608 unique locations"
   ]
  },
  {
   "cell_type": "markdown",
   "id": "29beb787",
   "metadata": {},
   "source": [
    "## Check unique date locations"
   ]
  },
  {
   "cell_type": "code",
   "execution_count": 15,
   "id": "70b08594",
   "metadata": {},
   "outputs": [
    {
     "data": {
      "text/plain": [
       "2120"
      ]
     },
     "execution_count": 15,
     "metadata": {},
     "output_type": "execute_result"
    }
   ],
   "source": [
    "df.date.nunique()"
   ]
  },
  {
   "cell_type": "markdown",
   "id": "5030a95f",
   "metadata": {},
   "source": [
    "## Check n of unique habitats"
   ]
  },
  {
   "cell_type": "code",
   "execution_count": 16,
   "id": "8d1810a3",
   "metadata": {},
   "outputs": [
    {
     "data": {
      "text/plain": [
       "21"
      ]
     },
     "execution_count": 16,
     "metadata": {},
     "output_type": "execute_result"
    }
   ],
   "source": [
    "df.habitat.nunique()"
   ]
  },
  {
   "cell_type": "markdown",
   "id": "39daff39",
   "metadata": {},
   "source": [
    "## Lower case and sprip that spaces from the habitats "
   ]
  },
  {
   "cell_type": "code",
   "execution_count": 17,
   "id": "c03996b0",
   "metadata": {},
   "outputs": [
    {
     "data": {
      "text/plain": [
       "array(['water', 'unknown', '', 'ice', 'land', 'ocean', 'at sea',\n",
       "       'at sea, ice edge', 'glacier ice', 'in hornsund', 'swimming',\n",
       "       'on land', 'land, water', 'swimming & on ice', 'beach',\n",
       "       'shore and water', '19.00 martin', 'fast ice', 'pack ice'],\n",
       "      dtype=object)"
      ]
     },
     "execution_count": 17,
     "metadata": {},
     "output_type": "execute_result"
    }
   ],
   "source": [
    "df['habitat'] = df['habitat'].str.strip()\n",
    "df['habitat'] = df['habitat'].str.lower()\n",
    "df.habitat.unique()"
   ]
  },
  {
   "cell_type": "code",
   "execution_count": 18,
   "id": "43641dcc",
   "metadata": {},
   "outputs": [],
   "source": [
    "#maybe group them a bit better to have less categories, but do we really need them? "
   ]
  },
  {
   "cell_type": "markdown",
   "id": "44468493",
   "metadata": {},
   "source": [
    "## Drop the columns that we are not going to use for the purpose of the analysis"
   ]
  },
  {
   "cell_type": "code",
   "execution_count": 19,
   "id": "ad1e4a1d",
   "metadata": {},
   "outputs": [
    {
     "data": {
      "text/plain": [
       "Index(['date', 'latitude', 'longitude', 'location', 'species', 'adult m',\n",
       "       'adult f', 'adult', 'subadult', 'polar bear condition',\n",
       "       'polar bear den', 'cub/calf/pup', 'bear cubs', 'dead/alive',\n",
       "       'unidentified', 'total', 'habitat', 'occurrence remark'],\n",
       "      dtype='object')"
      ]
     },
     "execution_count": 19,
     "metadata": {},
     "output_type": "execute_result"
    }
   ],
   "source": [
    "df.columns"
   ]
  },
  {
   "cell_type": "code",
   "execution_count": 20,
   "id": "637868e9",
   "metadata": {},
   "outputs": [],
   "source": [
    "df = df.drop(['adult m', 'adult f', 'adult', 'subadult','location',\n",
    "              'polar bear condition', 'polar bear den', \n",
    "              'cub/calf/pup','bear cubs','dead/alive',\n",
    "             'unidentified','occurrence remark'], axis=1)"
   ]
  },
  {
   "cell_type": "code",
   "execution_count": 21,
   "id": "99127638",
   "metadata": {
    "scrolled": true
   },
   "outputs": [
    {
     "data": {
      "text/html": [
       "<div>\n",
       "<style scoped>\n",
       "    .dataframe tbody tr th:only-of-type {\n",
       "        vertical-align: middle;\n",
       "    }\n",
       "\n",
       "    .dataframe tbody tr th {\n",
       "        vertical-align: top;\n",
       "    }\n",
       "\n",
       "    .dataframe thead th {\n",
       "        text-align: right;\n",
       "    }\n",
       "</style>\n",
       "<table border=\"1\" class=\"dataframe\">\n",
       "  <thead>\n",
       "    <tr style=\"text-align: right;\">\n",
       "      <th></th>\n",
       "      <th>date</th>\n",
       "      <th>latitude</th>\n",
       "      <th>longitude</th>\n",
       "      <th>species</th>\n",
       "      <th>total</th>\n",
       "      <th>habitat</th>\n",
       "    </tr>\n",
       "  </thead>\n",
       "  <tbody>\n",
       "    <tr>\n",
       "      <th>0</th>\n",
       "      <td>2000-07-29</td>\n",
       "      <td>78.55</td>\n",
       "      <td>25.416667</td>\n",
       "      <td>bowhead whale</td>\n",
       "      <td>1</td>\n",
       "      <td>water</td>\n",
       "    </tr>\n",
       "    <tr>\n",
       "      <th>1</th>\n",
       "      <td>2000-08-08</td>\n",
       "      <td>79.1166666666667</td>\n",
       "      <td>21.441667</td>\n",
       "      <td>bowhead whale</td>\n",
       "      <td>1</td>\n",
       "      <td>water</td>\n",
       "    </tr>\n",
       "    <tr>\n",
       "      <th>2</th>\n",
       "      <td>2000-08-16</td>\n",
       "      <td>78.917</td>\n",
       "      <td>24.050000</td>\n",
       "      <td>bowhead whale</td>\n",
       "      <td>1</td>\n",
       "      <td>water</td>\n",
       "    </tr>\n",
       "    <tr>\n",
       "      <th>3</th>\n",
       "      <td>2001-08-08</td>\n",
       "      <td>79.268</td>\n",
       "      <td>20.858000</td>\n",
       "      <td>bowhead whale</td>\n",
       "      <td>1</td>\n",
       "      <td>water</td>\n",
       "    </tr>\n",
       "    <tr>\n",
       "      <th>4</th>\n",
       "      <td>2005-08-06</td>\n",
       "      <td>78.932</td>\n",
       "      <td>11.922000</td>\n",
       "      <td>bowhead whale</td>\n",
       "      <td>1</td>\n",
       "      <td>water</td>\n",
       "    </tr>\n",
       "    <tr>\n",
       "      <th>...</th>\n",
       "      <td>...</td>\n",
       "      <td>...</td>\n",
       "      <td>...</td>\n",
       "      <td>...</td>\n",
       "      <td>...</td>\n",
       "      <td>...</td>\n",
       "    </tr>\n",
       "    <tr>\n",
       "      <th>17370</th>\n",
       "      <td>2006-07-25</td>\n",
       "      <td>80.703</td>\n",
       "      <td>20.883000</td>\n",
       "      <td>polar bear</td>\n",
       "      <td>19</td>\n",
       "      <td>land</td>\n",
       "    </tr>\n",
       "    <tr>\n",
       "      <th>17371</th>\n",
       "      <td>2010-09-21</td>\n",
       "      <td>80.1107</td>\n",
       "      <td>28.079700</td>\n",
       "      <td>polar bear</td>\n",
       "      <td>20</td>\n",
       "      <td>unknown</td>\n",
       "    </tr>\n",
       "    <tr>\n",
       "      <th>17372</th>\n",
       "      <td>2012-07-11</td>\n",
       "      <td>79.01</td>\n",
       "      <td>20.500000</td>\n",
       "      <td>polar bear</td>\n",
       "      <td>22</td>\n",
       "      <td>ice</td>\n",
       "    </tr>\n",
       "    <tr>\n",
       "      <th>17373</th>\n",
       "      <td>2015-08-28</td>\n",
       "      <td>78.9354</td>\n",
       "      <td>28.635900</td>\n",
       "      <td>polar bear</td>\n",
       "      <td>30</td>\n",
       "      <td>land</td>\n",
       "    </tr>\n",
       "    <tr>\n",
       "      <th>17374</th>\n",
       "      <td>2004-09-01</td>\n",
       "      <td>79.869</td>\n",
       "      <td>27.179000</td>\n",
       "      <td>polar bear</td>\n",
       "      <td>32</td>\n",
       "      <td>land</td>\n",
       "    </tr>\n",
       "  </tbody>\n",
       "</table>\n",
       "<p>17375 rows × 6 columns</p>\n",
       "</div>"
      ],
      "text/plain": [
       "               date          latitude  longitude        species total  habitat\n",
       "0       2000-07-29              78.55  25.416667  bowhead whale     1    water\n",
       "1       2000-08-08   79.1166666666667  21.441667  bowhead whale     1    water\n",
       "2       2000-08-16             78.917  24.050000  bowhead whale     1    water\n",
       "3       2001-08-08             79.268  20.858000  bowhead whale     1    water\n",
       "4       2005-08-06             78.932  11.922000  bowhead whale     1    water\n",
       "...             ...               ...        ...            ...   ...      ...\n",
       "17370   2006-07-25             80.703  20.883000     polar bear    19     land\n",
       "17371   2010-09-21            80.1107  28.079700     polar bear    20  unknown\n",
       "17372   2012-07-11              79.01  20.500000     polar bear    22      ice\n",
       "17373   2015-08-28            78.9354  28.635900     polar bear    30     land\n",
       "17374   2004-09-01             79.869  27.179000     polar bear    32     land\n",
       "\n",
       "[17375 rows x 6 columns]"
      ]
     },
     "execution_count": 21,
     "metadata": {},
     "output_type": "execute_result"
    }
   ],
   "source": [
    "df"
   ]
  },
  {
   "cell_type": "code",
   "execution_count": 22,
   "id": "55384949",
   "metadata": {},
   "outputs": [
    {
     "data": {
      "text/plain": [
       "water                5822\n",
       "unknown              4456\n",
       "land                 2778\n",
       "ice                  2533\n",
       "                     1757\n",
       "fast ice                5\n",
       "at sea                  5\n",
       "pack ice                4\n",
       "ocean                   4\n",
       "at sea, ice edge        2\n",
       "glacier ice             1\n",
       "swimming                1\n",
       "on land                 1\n",
       "land, water             1\n",
       "swimming & on ice       1\n",
       "beach                   1\n",
       "shore and water         1\n",
       "19.00 martin            1\n",
       "in hornsund             1\n",
       "Name: habitat, dtype: int64"
      ]
     },
     "execution_count": 22,
     "metadata": {},
     "output_type": "execute_result"
    }
   ],
   "source": [
    "df['habitat'].value_counts() #maybe we dont need habitat at all actually "
   ]
  },
  {
   "cell_type": "markdown",
   "id": "421d1fd9",
   "metadata": {},
   "source": [
    "## Now we need to fix the location"
   ]
  },
  {
   "cell_type": "code",
   "execution_count": 23,
   "id": "4f41763e",
   "metadata": {},
   "outputs": [
    {
     "data": {
      "text/plain": [
       "date          object\n",
       "latitude      object\n",
       "longitude    float64\n",
       "species       object\n",
       "total         object\n",
       "habitat       object\n",
       "dtype: object"
      ]
     },
     "execution_count": 23,
     "metadata": {},
     "output_type": "execute_result"
    }
   ],
   "source": [
    "df['longitude'] = df['longitude'].abs() #We want the absolute values as we have negative values \n",
    "\n",
    "df.dtypes #We see that 'latitude' is an object, and we need to turn it into string\n",
    "\n"
   ]
  },
  {
   "cell_type": "code",
   "execution_count": 24,
   "id": "4612f730",
   "metadata": {},
   "outputs": [],
   "source": [
    "#Upon attempting df['latitude'] = df['latitude'].map(lambda x: float(x)) \n",
    "# we get an error that we have a value '79.08046q' and \"78-99257\" in the column that need to be corrected \n",
    "#otherwise we cannot turn the column into float "
   ]
  },
  {
   "cell_type": "code",
   "execution_count": 25,
   "id": "0c59a28a",
   "metadata": {},
   "outputs": [],
   "source": [
    "df['latitude'] = df['latitude'].replace({\"79.08046q\":\"79.08046\",\"78-99257\":\"7899257\"})"
   ]
  },
  {
   "cell_type": "code",
   "execution_count": 26,
   "id": "36731e16",
   "metadata": {},
   "outputs": [
    {
     "data": {
      "text/plain": [
       "0        78.550000\n",
       "1        79.116667\n",
       "2        78.917000\n",
       "3        79.268000\n",
       "4        78.932000\n",
       "           ...    \n",
       "17370    80.703000\n",
       "17371    80.110700\n",
       "17372    79.010000\n",
       "17373    78.935400\n",
       "17374    79.869000\n",
       "Name: latitude, Length: 17375, dtype: float64"
      ]
     },
     "execution_count": 26,
     "metadata": {},
     "output_type": "execute_result"
    }
   ],
   "source": [
    "df['latitude'] = df['latitude'].map(lambda x: float(x))\n",
    "df['latitude'] #now we successfully converted the latitude into floats "
   ]
  },
  {
   "cell_type": "code",
   "execution_count": 27,
   "id": "b0d0eed3",
   "metadata": {},
   "outputs": [
    {
     "data": {
      "text/plain": [
       "0        78.550000\n",
       "1        79.116667\n",
       "2        78.917000\n",
       "3        79.268000\n",
       "4        78.932000\n",
       "           ...    \n",
       "17370    80.703000\n",
       "17371    80.110700\n",
       "17372    79.010000\n",
       "17373    78.935400\n",
       "17374    79.869000\n",
       "Name: latitude, Length: 17375, dtype: float64"
      ]
     },
     "execution_count": 27,
     "metadata": {},
     "output_type": "execute_result"
    }
   ],
   "source": [
    "df['latitude'] = df['latitude'].abs() #now get the absolute values of latitude to eliminate negative values\n",
    "df['latitude']"
   ]
  },
  {
   "cell_type": "code",
   "execution_count": 28,
   "id": "9d9587e4",
   "metadata": {},
   "outputs": [
    {
     "data": {
      "text/plain": [
       "0        25.416667\n",
       "1        21.441667\n",
       "2        24.050000\n",
       "3        20.858000\n",
       "4        11.922000\n",
       "           ...    \n",
       "17370    20.883000\n",
       "17371    28.079700\n",
       "17372    20.500000\n",
       "17373    28.635900\n",
       "17374    27.179000\n",
       "Name: longitude, Length: 17375, dtype: float64"
      ]
     },
     "execution_count": 28,
     "metadata": {},
     "output_type": "execute_result"
    }
   ],
   "source": [
    "df['longitude'] #and the longitude is as well successfully converted to floats and abs values "
   ]
  },
  {
   "cell_type": "code",
   "execution_count": 29,
   "id": "4ef04c6b",
   "metadata": {},
   "outputs": [
    {
     "data": {
      "text/html": [
       "<div>\n",
       "<style scoped>\n",
       "    .dataframe tbody tr th:only-of-type {\n",
       "        vertical-align: middle;\n",
       "    }\n",
       "\n",
       "    .dataframe tbody tr th {\n",
       "        vertical-align: top;\n",
       "    }\n",
       "\n",
       "    .dataframe thead th {\n",
       "        text-align: right;\n",
       "    }\n",
       "</style>\n",
       "<table border=\"1\" class=\"dataframe\">\n",
       "  <thead>\n",
       "    <tr style=\"text-align: right;\">\n",
       "      <th></th>\n",
       "      <th>date</th>\n",
       "      <th>latitude</th>\n",
       "      <th>longitude</th>\n",
       "      <th>species</th>\n",
       "      <th>total</th>\n",
       "      <th>habitat</th>\n",
       "    </tr>\n",
       "  </thead>\n",
       "  <tbody>\n",
       "    <tr>\n",
       "      <th>0</th>\n",
       "      <td>2000-07-29</td>\n",
       "      <td>78.550000</td>\n",
       "      <td>25.416667</td>\n",
       "      <td>bowhead whale</td>\n",
       "      <td>1</td>\n",
       "      <td>water</td>\n",
       "    </tr>\n",
       "    <tr>\n",
       "      <th>1</th>\n",
       "      <td>2000-08-08</td>\n",
       "      <td>79.116667</td>\n",
       "      <td>21.441667</td>\n",
       "      <td>bowhead whale</td>\n",
       "      <td>1</td>\n",
       "      <td>water</td>\n",
       "    </tr>\n",
       "    <tr>\n",
       "      <th>2</th>\n",
       "      <td>2000-08-16</td>\n",
       "      <td>78.917000</td>\n",
       "      <td>24.050000</td>\n",
       "      <td>bowhead whale</td>\n",
       "      <td>1</td>\n",
       "      <td>water</td>\n",
       "    </tr>\n",
       "    <tr>\n",
       "      <th>3</th>\n",
       "      <td>2001-08-08</td>\n",
       "      <td>79.268000</td>\n",
       "      <td>20.858000</td>\n",
       "      <td>bowhead whale</td>\n",
       "      <td>1</td>\n",
       "      <td>water</td>\n",
       "    </tr>\n",
       "    <tr>\n",
       "      <th>4</th>\n",
       "      <td>2005-08-06</td>\n",
       "      <td>78.932000</td>\n",
       "      <td>11.922000</td>\n",
       "      <td>bowhead whale</td>\n",
       "      <td>1</td>\n",
       "      <td>water</td>\n",
       "    </tr>\n",
       "    <tr>\n",
       "      <th>...</th>\n",
       "      <td>...</td>\n",
       "      <td>...</td>\n",
       "      <td>...</td>\n",
       "      <td>...</td>\n",
       "      <td>...</td>\n",
       "      <td>...</td>\n",
       "    </tr>\n",
       "    <tr>\n",
       "      <th>17370</th>\n",
       "      <td>2006-07-25</td>\n",
       "      <td>80.703000</td>\n",
       "      <td>20.883000</td>\n",
       "      <td>polar bear</td>\n",
       "      <td>19</td>\n",
       "      <td>land</td>\n",
       "    </tr>\n",
       "    <tr>\n",
       "      <th>17371</th>\n",
       "      <td>2010-09-21</td>\n",
       "      <td>80.110700</td>\n",
       "      <td>28.079700</td>\n",
       "      <td>polar bear</td>\n",
       "      <td>20</td>\n",
       "      <td>unknown</td>\n",
       "    </tr>\n",
       "    <tr>\n",
       "      <th>17372</th>\n",
       "      <td>2012-07-11</td>\n",
       "      <td>79.010000</td>\n",
       "      <td>20.500000</td>\n",
       "      <td>polar bear</td>\n",
       "      <td>22</td>\n",
       "      <td>ice</td>\n",
       "    </tr>\n",
       "    <tr>\n",
       "      <th>17373</th>\n",
       "      <td>2015-08-28</td>\n",
       "      <td>78.935400</td>\n",
       "      <td>28.635900</td>\n",
       "      <td>polar bear</td>\n",
       "      <td>30</td>\n",
       "      <td>land</td>\n",
       "    </tr>\n",
       "    <tr>\n",
       "      <th>17374</th>\n",
       "      <td>2004-09-01</td>\n",
       "      <td>79.869000</td>\n",
       "      <td>27.179000</td>\n",
       "      <td>polar bear</td>\n",
       "      <td>32</td>\n",
       "      <td>land</td>\n",
       "    </tr>\n",
       "  </tbody>\n",
       "</table>\n",
       "<p>17375 rows × 6 columns</p>\n",
       "</div>"
      ],
      "text/plain": [
       "               date   latitude  longitude        species total  habitat\n",
       "0       2000-07-29   78.550000  25.416667  bowhead whale     1    water\n",
       "1       2000-08-08   79.116667  21.441667  bowhead whale     1    water\n",
       "2       2000-08-16   78.917000  24.050000  bowhead whale     1    water\n",
       "3       2001-08-08   79.268000  20.858000  bowhead whale     1    water\n",
       "4       2005-08-06   78.932000  11.922000  bowhead whale     1    water\n",
       "...             ...        ...        ...            ...   ...      ...\n",
       "17370   2006-07-25   80.703000  20.883000     polar bear    19     land\n",
       "17371   2010-09-21   80.110700  28.079700     polar bear    20  unknown\n",
       "17372   2012-07-11   79.010000  20.500000     polar bear    22      ice\n",
       "17373   2015-08-28   78.935400  28.635900     polar bear    30     land\n",
       "17374   2004-09-01   79.869000  27.179000     polar bear    32     land\n",
       "\n",
       "[17375 rows x 6 columns]"
      ]
     },
     "execution_count": 29,
     "metadata": {},
     "output_type": "execute_result"
    }
   ],
   "source": [
    "df"
   ]
  },
  {
   "cell_type": "markdown",
   "id": "4fce29cb",
   "metadata": {},
   "source": [
    "## We'll clean the date and we will keep only the years "
   ]
  },
  {
   "cell_type": "code",
   "execution_count": 30,
   "id": "21353972",
   "metadata": {},
   "outputs": [
    {
     "data": {
      "text/html": [
       "<div>\n",
       "<style scoped>\n",
       "    .dataframe tbody tr th:only-of-type {\n",
       "        vertical-align: middle;\n",
       "    }\n",
       "\n",
       "    .dataframe tbody tr th {\n",
       "        vertical-align: top;\n",
       "    }\n",
       "\n",
       "    .dataframe thead th {\n",
       "        text-align: right;\n",
       "    }\n",
       "</style>\n",
       "<table border=\"1\" class=\"dataframe\">\n",
       "  <thead>\n",
       "    <tr style=\"text-align: right;\">\n",
       "      <th></th>\n",
       "      <th>date</th>\n",
       "      <th>latitude</th>\n",
       "      <th>longitude</th>\n",
       "      <th>species</th>\n",
       "      <th>total</th>\n",
       "      <th>habitat</th>\n",
       "      <th>year</th>\n",
       "    </tr>\n",
       "  </thead>\n",
       "  <tbody>\n",
       "    <tr>\n",
       "      <th>0</th>\n",
       "      <td>2000-07-29</td>\n",
       "      <td>78.550000</td>\n",
       "      <td>25.416667</td>\n",
       "      <td>bowhead whale</td>\n",
       "      <td>1</td>\n",
       "      <td>water</td>\n",
       "      <td>2000</td>\n",
       "    </tr>\n",
       "    <tr>\n",
       "      <th>1</th>\n",
       "      <td>2000-08-08</td>\n",
       "      <td>79.116667</td>\n",
       "      <td>21.441667</td>\n",
       "      <td>bowhead whale</td>\n",
       "      <td>1</td>\n",
       "      <td>water</td>\n",
       "      <td>2000</td>\n",
       "    </tr>\n",
       "    <tr>\n",
       "      <th>2</th>\n",
       "      <td>2000-08-16</td>\n",
       "      <td>78.917000</td>\n",
       "      <td>24.050000</td>\n",
       "      <td>bowhead whale</td>\n",
       "      <td>1</td>\n",
       "      <td>water</td>\n",
       "      <td>2000</td>\n",
       "    </tr>\n",
       "    <tr>\n",
       "      <th>3</th>\n",
       "      <td>2001-08-08</td>\n",
       "      <td>79.268000</td>\n",
       "      <td>20.858000</td>\n",
       "      <td>bowhead whale</td>\n",
       "      <td>1</td>\n",
       "      <td>water</td>\n",
       "      <td>2001</td>\n",
       "    </tr>\n",
       "    <tr>\n",
       "      <th>4</th>\n",
       "      <td>2005-08-06</td>\n",
       "      <td>78.932000</td>\n",
       "      <td>11.922000</td>\n",
       "      <td>bowhead whale</td>\n",
       "      <td>1</td>\n",
       "      <td>water</td>\n",
       "      <td>2005</td>\n",
       "    </tr>\n",
       "    <tr>\n",
       "      <th>...</th>\n",
       "      <td>...</td>\n",
       "      <td>...</td>\n",
       "      <td>...</td>\n",
       "      <td>...</td>\n",
       "      <td>...</td>\n",
       "      <td>...</td>\n",
       "      <td>...</td>\n",
       "    </tr>\n",
       "    <tr>\n",
       "      <th>17370</th>\n",
       "      <td>2006-07-25</td>\n",
       "      <td>80.703000</td>\n",
       "      <td>20.883000</td>\n",
       "      <td>polar bear</td>\n",
       "      <td>19</td>\n",
       "      <td>land</td>\n",
       "      <td>2006</td>\n",
       "    </tr>\n",
       "    <tr>\n",
       "      <th>17371</th>\n",
       "      <td>2010-09-21</td>\n",
       "      <td>80.110700</td>\n",
       "      <td>28.079700</td>\n",
       "      <td>polar bear</td>\n",
       "      <td>20</td>\n",
       "      <td>unknown</td>\n",
       "      <td>2010</td>\n",
       "    </tr>\n",
       "    <tr>\n",
       "      <th>17372</th>\n",
       "      <td>2012-07-11</td>\n",
       "      <td>79.010000</td>\n",
       "      <td>20.500000</td>\n",
       "      <td>polar bear</td>\n",
       "      <td>22</td>\n",
       "      <td>ice</td>\n",
       "      <td>2012</td>\n",
       "    </tr>\n",
       "    <tr>\n",
       "      <th>17373</th>\n",
       "      <td>2015-08-28</td>\n",
       "      <td>78.935400</td>\n",
       "      <td>28.635900</td>\n",
       "      <td>polar bear</td>\n",
       "      <td>30</td>\n",
       "      <td>land</td>\n",
       "      <td>2015</td>\n",
       "    </tr>\n",
       "    <tr>\n",
       "      <th>17374</th>\n",
       "      <td>2004-09-01</td>\n",
       "      <td>79.869000</td>\n",
       "      <td>27.179000</td>\n",
       "      <td>polar bear</td>\n",
       "      <td>32</td>\n",
       "      <td>land</td>\n",
       "      <td>2004</td>\n",
       "    </tr>\n",
       "  </tbody>\n",
       "</table>\n",
       "<p>17375 rows × 7 columns</p>\n",
       "</div>"
      ],
      "text/plain": [
       "               date   latitude  longitude        species total  habitat  year\n",
       "0       2000-07-29   78.550000  25.416667  bowhead whale     1    water  2000\n",
       "1       2000-08-08   79.116667  21.441667  bowhead whale     1    water  2000\n",
       "2       2000-08-16   78.917000  24.050000  bowhead whale     1    water  2000\n",
       "3       2001-08-08   79.268000  20.858000  bowhead whale     1    water  2001\n",
       "4       2005-08-06   78.932000  11.922000  bowhead whale     1    water  2005\n",
       "...             ...        ...        ...            ...   ...      ...   ...\n",
       "17370   2006-07-25   80.703000  20.883000     polar bear    19     land  2006\n",
       "17371   2010-09-21   80.110700  28.079700     polar bear    20  unknown  2010\n",
       "17372   2012-07-11   79.010000  20.500000     polar bear    22      ice  2012\n",
       "17373   2015-08-28   78.935400  28.635900     polar bear    30     land  2015\n",
       "17374   2004-09-01   79.869000  27.179000     polar bear    32     land  2004\n",
       "\n",
       "[17375 rows x 7 columns]"
      ]
     },
     "execution_count": 30,
     "metadata": {},
     "output_type": "execute_result"
    }
   ],
   "source": [
    "#We create a for loop that will create a new list and iterate over the values of the column date \n",
    "\n",
    "extracted_years = []\n",
    "for i in df['date']:\n",
    "    split_year = i.split(\"-\")\n",
    "    extracted_years.append(int(split_year[0]))  # Convert to int and append\n",
    "\n",
    "\n",
    "df['year'] = extracted_years\n",
    "df"
   ]
  },
  {
   "cell_type": "code",
   "execution_count": null,
   "id": "63ae367c",
   "metadata": {},
   "outputs": [],
   "source": [
    "#At this point we can drop the date and habitat column as we will probably not need them for our analysis "
   ]
  },
  {
   "cell_type": "markdown",
   "id": "0bc3c294",
   "metadata": {},
   "source": [
    "## apply masks on the latitude and longitude"
   ]
  },
  {
   "cell_type": "code",
   "execution_count": null,
   "id": "319703d6",
   "metadata": {},
   "outputs": [],
   "source": [
    "mask = (df['latitude'] > 35) & (df['longitude'] > 0)\n",
    "\n",
    "# Apply the mask to the DataFrame\n",
    "filtered_df = df[mask]\n",
    "\n",
    "# Display the filtered DataFrame\n",
    "print(filtered_df)"
   ]
  },
  {
   "cell_type": "markdown",
   "id": "f0e36bf7",
   "metadata": {},
   "source": [
    "# Dataframe to CSV for further analysis "
   ]
  },
  {
   "cell_type": "code",
   "execution_count": 32,
   "id": "453cf204",
   "metadata": {},
   "outputs": [],
   "source": [
    "df.to_csv('extra_cleaned_marine_mammals.csv') "
   ]
  },
  {
   "cell_type": "code",
   "execution_count": null,
   "id": "14ee1d4c",
   "metadata": {},
   "outputs": [],
   "source": []
  }
 ],
 "metadata": {
  "kernelspec": {
   "display_name": "Python 3 (ipykernel)",
   "language": "python",
   "name": "python3"
  },
  "language_info": {
   "codemirror_mode": {
    "name": "ipython",
    "version": 3
   },
   "file_extension": ".py",
   "mimetype": "text/x-python",
   "name": "python",
   "nbconvert_exporter": "python",
   "pygments_lexer": "ipython3",
   "version": "3.11.4"
  }
 },
 "nbformat": 4,
 "nbformat_minor": 5
}
